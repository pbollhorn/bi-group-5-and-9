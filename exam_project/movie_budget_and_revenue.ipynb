{
 "cells": [
  {
   "cell_type": "markdown",
   "id": "61c474fb",
   "metadata": {},
   "source": [
    "# movie_budget_and_revenue.ipynb\n",
    "\n",
    "In this notebook we will explore movie budget and revenue, as well as profit and ROI (Return on Investment)."
   ]
  },
  {
   "cell_type": "code",
   "execution_count": 1,
   "id": "1e6b069d",
   "metadata": {},
   "outputs": [],
   "source": [
    "import sys\n",
    "sys.path.append(\"..\")\n",
    "\n",
    "import pandas as pd\n",
    "import ast  # Abstract Syntax Trees - safely parse string list to Python list\n",
    "from reader import generic_reader"
   ]
  },
  {
   "cell_type": "markdown",
   "id": "eca537cf",
   "metadata": {},
   "source": [
    "First we read in the movie data from `movies_clean.csv`"
   ]
  },
  {
   "cell_type": "code",
   "execution_count": 2,
   "id": "90ffd2fc",
   "metadata": {},
   "outputs": [],
   "source": [
    "df_movies = generic_reader.read_csv_file_to_data_frame(\"movie_data/movies_clean.csv\")"
   ]
  },
  {
   "cell_type": "markdown",
   "id": "8f29b37f",
   "metadata": {},
   "source": [
    "Then we choose the columns we will work in this notebook"
   ]
  },
  {
   "cell_type": "code",
   "execution_count": 3,
   "id": "91784b15",
   "metadata": {},
   "outputs": [
    {
     "data": {
      "text/html": [
       "<div>\n",
       "<style scoped>\n",
       "    .dataframe tbody tr th:only-of-type {\n",
       "        vertical-align: middle;\n",
       "    }\n",
       "\n",
       "    .dataframe tbody tr th {\n",
       "        vertical-align: top;\n",
       "    }\n",
       "\n",
       "    .dataframe thead th {\n",
       "        text-align: right;\n",
       "    }\n",
       "</style>\n",
       "<table border=\"1\" class=\"dataframe\">\n",
       "  <thead>\n",
       "    <tr style=\"text-align: right;\">\n",
       "      <th></th>\n",
       "      <th>budget_2023_usd</th>\n",
       "      <th>revenue_2023_usd</th>\n",
       "      <th>vote_average</th>\n",
       "    </tr>\n",
       "  </thead>\n",
       "  <tbody>\n",
       "    <tr>\n",
       "      <th>0</th>\n",
       "      <td>0</td>\n",
       "      <td>0</td>\n",
       "      <td>2.500</td>\n",
       "    </tr>\n",
       "    <tr>\n",
       "      <th>1</th>\n",
       "      <td>0</td>\n",
       "      <td>0</td>\n",
       "      <td>6.200</td>\n",
       "    </tr>\n",
       "    <tr>\n",
       "      <th>2</th>\n",
       "      <td>0</td>\n",
       "      <td>0</td>\n",
       "      <td>5.000</td>\n",
       "    </tr>\n",
       "    <tr>\n",
       "      <th>3</th>\n",
       "      <td>0</td>\n",
       "      <td>0</td>\n",
       "      <td>4.000</td>\n",
       "    </tr>\n",
       "    <tr>\n",
       "      <th>4</th>\n",
       "      <td>0</td>\n",
       "      <td>0</td>\n",
       "      <td>7.100</td>\n",
       "    </tr>\n",
       "    <tr>\n",
       "      <th>...</th>\n",
       "      <td>...</td>\n",
       "      <td>...</td>\n",
       "      <td>...</td>\n",
       "    </tr>\n",
       "    <tr>\n",
       "      <th>20484</th>\n",
       "      <td>5000000</td>\n",
       "      <td>14864960</td>\n",
       "      <td>7.443</td>\n",
       "    </tr>\n",
       "    <tr>\n",
       "      <th>20485</th>\n",
       "      <td>0</td>\n",
       "      <td>313000</td>\n",
       "      <td>7.093</td>\n",
       "    </tr>\n",
       "    <tr>\n",
       "      <th>20486</th>\n",
       "      <td>0</td>\n",
       "      <td>0</td>\n",
       "      <td>5.800</td>\n",
       "    </tr>\n",
       "    <tr>\n",
       "      <th>20487</th>\n",
       "      <td>40000000</td>\n",
       "      <td>54401583</td>\n",
       "      <td>7.233</td>\n",
       "    </tr>\n",
       "    <tr>\n",
       "      <th>20488</th>\n",
       "      <td>90000000</td>\n",
       "      <td>68919191</td>\n",
       "      <td>7.049</td>\n",
       "    </tr>\n",
       "  </tbody>\n",
       "</table>\n",
       "<p>20489 rows × 3 columns</p>\n",
       "</div>"
      ],
      "text/plain": [
       "       budget_2023_usd  revenue_2023_usd  vote_average\n",
       "0                    0                 0         2.500\n",
       "1                    0                 0         6.200\n",
       "2                    0                 0         5.000\n",
       "3                    0                 0         4.000\n",
       "4                    0                 0         7.100\n",
       "...                ...               ...           ...\n",
       "20484          5000000          14864960         7.443\n",
       "20485                0            313000         7.093\n",
       "20486                0                 0         5.800\n",
       "20487         40000000          54401583         7.233\n",
       "20488         90000000          68919191         7.049\n",
       "\n",
       "[20489 rows x 3 columns]"
      ]
     },
     "execution_count": 3,
     "metadata": {},
     "output_type": "execute_result"
    }
   ],
   "source": [
    "columns_to_keep = ['budget_2023_usd', 'revenue_2023_usd', 'vote_average']\n",
    "df_movies = df_movies[columns_to_keep].copy()\n",
    "df_movies"
   ]
  },
  {
   "cell_type": "code",
   "execution_count": 4,
   "id": "a2394169",
   "metadata": {},
   "outputs": [
    {
     "ename": "KeyError",
     "evalue": "'budget'",
     "output_type": "error",
     "traceback": [
      "\u001b[1;31m---------------------------------------------------------------------------\u001b[0m",
      "\u001b[1;31mKeyError\u001b[0m                                  Traceback (most recent call last)",
      "File \u001b[1;32mc:\\Users\\User\\anaconda3\\Lib\\site-packages\\pandas\\core\\indexes\\base.py:3805\u001b[0m, in \u001b[0;36mIndex.get_loc\u001b[1;34m(self, key)\u001b[0m\n\u001b[0;32m   3804\u001b[0m \u001b[38;5;28;01mtry\u001b[39;00m:\n\u001b[1;32m-> 3805\u001b[0m     \u001b[38;5;28;01mreturn\u001b[39;00m \u001b[38;5;28mself\u001b[39m\u001b[38;5;241m.\u001b[39m_engine\u001b[38;5;241m.\u001b[39mget_loc(casted_key)\n\u001b[0;32m   3806\u001b[0m \u001b[38;5;28;01mexcept\u001b[39;00m \u001b[38;5;167;01mKeyError\u001b[39;00m \u001b[38;5;28;01mas\u001b[39;00m err:\n",
      "File \u001b[1;32mindex.pyx:167\u001b[0m, in \u001b[0;36mpandas._libs.index.IndexEngine.get_loc\u001b[1;34m()\u001b[0m\n",
      "File \u001b[1;32mindex.pyx:196\u001b[0m, in \u001b[0;36mpandas._libs.index.IndexEngine.get_loc\u001b[1;34m()\u001b[0m\n",
      "File \u001b[1;32mpandas\\\\_libs\\\\hashtable_class_helper.pxi:7081\u001b[0m, in \u001b[0;36mpandas._libs.hashtable.PyObjectHashTable.get_item\u001b[1;34m()\u001b[0m\n",
      "File \u001b[1;32mpandas\\\\_libs\\\\hashtable_class_helper.pxi:7089\u001b[0m, in \u001b[0;36mpandas._libs.hashtable.PyObjectHashTable.get_item\u001b[1;34m()\u001b[0m\n",
      "\u001b[1;31mKeyError\u001b[0m: 'budget'",
      "\nThe above exception was the direct cause of the following exception:\n",
      "\u001b[1;31mKeyError\u001b[0m                                  Traceback (most recent call last)",
      "Cell \u001b[1;32mIn[4], line 2\u001b[0m\n\u001b[0;32m      1\u001b[0m \u001b[38;5;66;03m# Drop movies where budget is zero\u001b[39;00m\n\u001b[1;32m----> 2\u001b[0m df_movies \u001b[38;5;241m=\u001b[39m df_movies[df_movies[\u001b[38;5;124m'\u001b[39m\u001b[38;5;124mbudget\u001b[39m\u001b[38;5;124m'\u001b[39m] \u001b[38;5;241m!=\u001b[39m \u001b[38;5;241m0\u001b[39m]\u001b[38;5;241m.\u001b[39mcopy()\n\u001b[0;32m      3\u001b[0m \u001b[38;5;66;03m# df_movies = df_movies[(df_movies['budget'] != 0) & (df_movies['revenue'] != 0)].copy()\u001b[39;00m\n\u001b[0;32m      4\u001b[0m \u001b[38;5;28mlen\u001b[39m(df_movies)\n",
      "File \u001b[1;32mc:\\Users\\User\\anaconda3\\Lib\\site-packages\\pandas\\core\\frame.py:4102\u001b[0m, in \u001b[0;36mDataFrame.__getitem__\u001b[1;34m(self, key)\u001b[0m\n\u001b[0;32m   4100\u001b[0m \u001b[38;5;28;01mif\u001b[39;00m \u001b[38;5;28mself\u001b[39m\u001b[38;5;241m.\u001b[39mcolumns\u001b[38;5;241m.\u001b[39mnlevels \u001b[38;5;241m>\u001b[39m \u001b[38;5;241m1\u001b[39m:\n\u001b[0;32m   4101\u001b[0m     \u001b[38;5;28;01mreturn\u001b[39;00m \u001b[38;5;28mself\u001b[39m\u001b[38;5;241m.\u001b[39m_getitem_multilevel(key)\n\u001b[1;32m-> 4102\u001b[0m indexer \u001b[38;5;241m=\u001b[39m \u001b[38;5;28mself\u001b[39m\u001b[38;5;241m.\u001b[39mcolumns\u001b[38;5;241m.\u001b[39mget_loc(key)\n\u001b[0;32m   4103\u001b[0m \u001b[38;5;28;01mif\u001b[39;00m is_integer(indexer):\n\u001b[0;32m   4104\u001b[0m     indexer \u001b[38;5;241m=\u001b[39m [indexer]\n",
      "File \u001b[1;32mc:\\Users\\User\\anaconda3\\Lib\\site-packages\\pandas\\core\\indexes\\base.py:3812\u001b[0m, in \u001b[0;36mIndex.get_loc\u001b[1;34m(self, key)\u001b[0m\n\u001b[0;32m   3807\u001b[0m     \u001b[38;5;28;01mif\u001b[39;00m \u001b[38;5;28misinstance\u001b[39m(casted_key, \u001b[38;5;28mslice\u001b[39m) \u001b[38;5;129;01mor\u001b[39;00m (\n\u001b[0;32m   3808\u001b[0m         \u001b[38;5;28misinstance\u001b[39m(casted_key, abc\u001b[38;5;241m.\u001b[39mIterable)\n\u001b[0;32m   3809\u001b[0m         \u001b[38;5;129;01mand\u001b[39;00m \u001b[38;5;28many\u001b[39m(\u001b[38;5;28misinstance\u001b[39m(x, \u001b[38;5;28mslice\u001b[39m) \u001b[38;5;28;01mfor\u001b[39;00m x \u001b[38;5;129;01min\u001b[39;00m casted_key)\n\u001b[0;32m   3810\u001b[0m     ):\n\u001b[0;32m   3811\u001b[0m         \u001b[38;5;28;01mraise\u001b[39;00m InvalidIndexError(key)\n\u001b[1;32m-> 3812\u001b[0m     \u001b[38;5;28;01mraise\u001b[39;00m \u001b[38;5;167;01mKeyError\u001b[39;00m(key) \u001b[38;5;28;01mfrom\u001b[39;00m\u001b[38;5;250m \u001b[39m\u001b[38;5;21;01merr\u001b[39;00m\n\u001b[0;32m   3813\u001b[0m \u001b[38;5;28;01mexcept\u001b[39;00m \u001b[38;5;167;01mTypeError\u001b[39;00m:\n\u001b[0;32m   3814\u001b[0m     \u001b[38;5;66;03m# If we have a listlike key, _check_indexing_error will raise\u001b[39;00m\n\u001b[0;32m   3815\u001b[0m     \u001b[38;5;66;03m#  InvalidIndexError. Otherwise we fall through and re-raise\u001b[39;00m\n\u001b[0;32m   3816\u001b[0m     \u001b[38;5;66;03m#  the TypeError.\u001b[39;00m\n\u001b[0;32m   3817\u001b[0m     \u001b[38;5;28mself\u001b[39m\u001b[38;5;241m.\u001b[39m_check_indexing_error(key)\n",
      "\u001b[1;31mKeyError\u001b[0m: 'budget'"
     ]
    }
   ],
   "source": [
    "# Drop movies where budget is zero\n",
    "df_movies = df_movies[df_movies['budget'] != 0].copy()\n",
    "# df_movies = df_movies[(df_movies['budget'] != 0) & (df_movies['revenue'] != 0)].copy()\n",
    "len(df_movies)"
   ]
  },
  {
   "cell_type": "code",
   "execution_count": null,
   "id": "5cbbf62e",
   "metadata": {},
   "outputs": [],
   "source": [
    "# Convert release_date into proper datetime objects\n",
    "df_movies['release_date'] = pd.to_datetime(df_movies['release_date'])\n",
    "\n",
    "# Create year column\n",
    "df_movies['release_year'] = df_movies['release_date'].dt.year\n",
    "df_movies.sort_values(by=\"release_year\", ascending=False)"
   ]
  },
  {
   "cell_type": "code",
   "execution_count": null,
   "id": "91cd7186",
   "metadata": {},
   "outputs": [],
   "source": [
    "df_movies\n",
    "df_movies.sort_values(by=\"budget_2023_usd\", ascending=False)"
   ]
  },
  {
   "cell_type": "markdown",
   "id": "48360ff0",
   "metadata": {},
   "source": [
    "Calculate profit and ROI"
   ]
  },
  {
   "cell_type": "code",
   "execution_count": null,
   "id": "f3b02837",
   "metadata": {},
   "outputs": [],
   "source": [
    "df_movies['profit_2023_usd'] = df_movies['revenue_2023_usd'] - df_movies['budget_2023_usd']\n",
    "df_movies['roi'] = ( df_movies['profit_2023_usd'] / df_movies['budget_2023_usd'] )*100\n",
    "df_movies.sort_values(by=\"profit_2023_usd\", ascending=False)"
   ]
  },
  {
   "cell_type": "markdown",
   "id": "a52ba090",
   "metadata": {},
   "source": [
    "In this plot we plot budget along the x-axis and revenue along the y-axis. The blue line is the line for break even.\n",
    "\n",
    "We see that most movies actually do make a profit."
   ]
  },
  {
   "cell_type": "code",
   "execution_count": null,
   "id": "e8bb112a",
   "metadata": {},
   "outputs": [],
   "source": [
    "import seaborn as sns\n",
    "import matplotlib.pyplot as plt\n",
    "sns.scatterplot(x=df_movies['budget_2023_usd'], y=df_movies['revenue_2023_usd'], alpha=0.1)\n",
    "plt.xlim(0, 3e9)\n",
    "plt.ylim(0, 3e9)\n",
    "plt.gca().set_aspect('equal', adjustable='box')\n",
    "plt.plot([0, 3e9], [0, 3e9])\n",
    "plt.xlabel(\"Budget [2023 USD]\")\n",
    "plt.ylabel(\"Revenue [2023 USD]\");"
   ]
  },
  {
   "cell_type": "code",
   "execution_count": null,
   "id": "d7ec772f",
   "metadata": {},
   "outputs": [],
   "source": [
    "import seaborn as sns\n",
    "import matplotlib.pyplot as plt\n",
    "sns.scatterplot(x=df_movies['budget_2023_usd'], y=df_movies['revenue_2023_usd'], alpha=0.1)\n",
    "plt.xlim(0, 0.6e9)\n",
    "plt.ylim(0, 3e9)\n",
    "# plt.gca().set_aspect('equal', adjustable='box')\n",
    "plt.plot([0, 3e9], [0, 3e9])\n",
    "plt.xlabel(\"Budget [2023 USD]\")\n",
    "plt.ylabel(\"Revenue [2023 USD]\");"
   ]
  },
  {
   "cell_type": "code",
   "execution_count": null,
   "id": "1bcf272a",
   "metadata": {},
   "outputs": [],
   "source": [
    "import seaborn as sns\n",
    "import matplotlib.pyplot as plt\n",
    "sns.scatterplot(x=df_movies['budget_2023_usd'], y=df_movies['profit_2023_usd'], alpha=0.1)\n",
    "# plt.xlim(0, 0.6e9)\n",
    "# plt.ylim(0, 3e9)\n",
    "# plt.gca().set_aspect('equal', adjustable='box')\n",
    "# plt.plot([0, 3e9], [0, 3e9])\n",
    "plt.xlabel(\"Budget [2023 USD]\")\n",
    "plt.ylabel(\"Profit [2023 USD]\");"
   ]
  },
  {
   "cell_type": "code",
   "execution_count": null,
   "id": "3dcc227d",
   "metadata": {},
   "outputs": [],
   "source": [
    "sns.scatterplot(x=df_movies['budget_2023_usd'], y=df_movies['vote_average'], alpha=0.1)"
   ]
  },
  {
   "cell_type": "code",
   "execution_count": null,
   "id": "1445ae2a",
   "metadata": {},
   "outputs": [],
   "source": [
    "sns.scatterplot(x=df_movies['profit_2023_usd'], y=df_movies['vote_average'], alpha=0.1)"
   ]
  },
  {
   "cell_type": "code",
   "execution_count": null,
   "id": "cac4f27a",
   "metadata": {},
   "outputs": [],
   "source": [
    "sns.scatterplot(x=df_movies['roi'], y=df_movies['vote_average'], alpha=0.1)\n",
    "plt.xlim(-100, 2000)"
   ]
  }
 ],
 "metadata": {
  "kernelspec": {
   "display_name": "base",
   "language": "python",
   "name": "python3"
  },
  "language_info": {
   "codemirror_mode": {
    "name": "ipython",
    "version": 3
   },
   "file_extension": ".py",
   "mimetype": "text/x-python",
   "name": "python",
   "nbconvert_exporter": "python",
   "pygments_lexer": "ipython3",
   "version": "3.13.5"
  }
 },
 "nbformat": 4,
 "nbformat_minor": 5
}
