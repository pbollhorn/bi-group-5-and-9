{
 "cells": [
  {
   "cell_type": "code",
   "execution_count": null,
   "id": "1e6b069d",
   "metadata": {},
   "outputs": [],
   "source": [
    "import sys\n",
    "sys.path.append(\"..\")\n",
    "\n",
    "import pandas as pd\n",
    "import ast  # Abstract Syntax Trees - safely parse string list to Python list\n",
    "from reader import generic_reader\n",
    "from inflation import read_cpi_by_year, convert_usd"
   ]
  },
  {
   "cell_type": "code",
   "execution_count": null,
   "id": "fd45f9ef",
   "metadata": {},
   "outputs": [],
   "source": [
    "cpi_by_year = read_cpi_by_year(\"inflation_data/cpiai.csv\")\n",
    "# cpi_by_year\n",
    "convert_usd(1000, 2000, 2023, cpi_by_year)"
   ]
  },
  {
   "cell_type": "code",
   "execution_count": null,
   "id": "90ffd2fc",
   "metadata": {},
   "outputs": [],
   "source": [
    "df_movies = generic_reader.read_csv_file_to_data_frame(\"../movie_data/movies.csv\")\n",
    "df_movies['genre_ids'] = df_movies['genre_ids'].apply(ast.literal_eval) # Turn genre_ids into actual Python list\n",
    "df_movies['director_person_ids'] = df_movies['director_person_ids'].apply(ast.literal_eval) # Turn genre_ids into actual Python list\n",
    "df_movies.info()\n",
    "df_movies.sort_values(by=\"budget\", ascending=False)"
   ]
  },
  {
   "cell_type": "code",
   "execution_count": null,
   "id": "9cf520c4",
   "metadata": {},
   "outputs": [],
   "source": [
    "# Drop all movies which has more than one director:\n",
    "df_movies = df_movies[df_movies['director_person_ids'].apply(lambda x: len(x) <= 1)]\n",
    "df_movies['director'] = df_movies['director_person_ids'].apply(lambda x: x[0])"
   ]
  },
  {
   "cell_type": "code",
   "execution_count": null,
   "id": "91784b15",
   "metadata": {},
   "outputs": [],
   "source": [
    "columns_to_keep = ['movie_id', 'original_title', 'release_date', 'budget', 'revenue', 'vote_average', 'vote_count', 'director', 'director_person_ids', 'genre_ids']\n",
    "df_movies = df_movies[columns_to_keep].copy()\n",
    "df_movies"
   ]
  },
  {
   "cell_type": "code",
   "execution_count": null,
   "id": "9e1d2cbe",
   "metadata": {},
   "outputs": [],
   "source": [
    "df_movies.info()"
   ]
  },
  {
   "cell_type": "code",
   "execution_count": null,
   "id": "57f24256",
   "metadata": {},
   "outputs": [],
   "source": [
    "df_movies['genre_ids'].apply(type).value_counts()"
   ]
  },
  {
   "cell_type": "code",
   "execution_count": null,
   "id": "a2394169",
   "metadata": {},
   "outputs": [],
   "source": [
    "df_movies = df_movies[(df_movies['budget'] != 0) & (df_movies['revenue'] != 0)].copy()"
   ]
  },
  {
   "cell_type": "code",
   "execution_count": null,
   "id": "5cbbf62e",
   "metadata": {},
   "outputs": [],
   "source": [
    "# Convert release_data into proper datetime objects\n",
    "df_movies['release_date'] = pd.to_datetime(df_movies['release_date'])\n",
    "\n",
    "# Create year column\n",
    "df_movies['release_year'] = df_movies['release_date'].dt.year"
   ]
  },
  {
   "cell_type": "code",
   "execution_count": null,
   "id": "f28588d7",
   "metadata": {},
   "outputs": [],
   "source": [
    "# Convert budget to 2023 USD\n",
    "df_movies['budget_2023_usd'] = df_movies.apply(\n",
    "    lambda row: convert_usd(\n",
    "        original_amount=row['budget'],\n",
    "        original_year=row['release_year'],\n",
    "        new_year=2023,\n",
    "        cpi_by_year=cpi_by_year\n",
    "    ),\n",
    "    axis=1\n",
    ")\n",
    "\n",
    "# Convert revenue to 2023 USD\n",
    "df_movies['revenue_2023_usd'] = df_movies.apply(\n",
    "    lambda row: convert_usd(\n",
    "        original_amount=row['revenue'],\n",
    "        original_year=row['release_year'],\n",
    "        new_year=2023,\n",
    "        cpi_by_year=cpi_by_year\n",
    "    ),\n",
    "    axis=1\n",
    ")"
   ]
  },
  {
   "cell_type": "code",
   "execution_count": null,
   "id": "91cd7186",
   "metadata": {},
   "outputs": [],
   "source": [
    "df_movies\n",
    "df_movies.sort_values(by=\"budget_2023_usd\", ascending=False)"
   ]
  },
  {
   "cell_type": "markdown",
   "id": "48360ff0",
   "metadata": {},
   "source": [
    "Calculate profit and ROI"
   ]
  },
  {
   "cell_type": "code",
   "execution_count": null,
   "id": "f3b02837",
   "metadata": {},
   "outputs": [],
   "source": [
    "df_movies['profit_2023_usd'] = df_movies['revenue_2023_usd'] - df_movies['budget_2023_usd']\n",
    "df_movies['roi'] = ( df_movies['profit_2023_usd'] / df_movies['budget_2023_usd'] )*100\n",
    "df_movies.sort_values(by=\"profit_2023_usd\", ascending=False)"
   ]
  },
  {
   "cell_type": "code",
   "execution_count": null,
   "id": "e8bb112a",
   "metadata": {},
   "outputs": [],
   "source": [
    "import seaborn as sns\n",
    "import matplotlib.pyplot as plt\n",
    "sns.scatterplot(x=df_movies['budget_2023_usd'], y=df_movies['revenue_2023_usd'], alpha=0.1)\n",
    "plt.xlim(0, 3e9)\n",
    "plt.ylim(0, 3e9)\n",
    "plt.gca().set_aspect('equal', adjustable='box')\n",
    "plt.plot([0, 3e9], [0, 3e9])\n",
    "plt.xlabel(\"Budget [2023 USD]\")\n",
    "plt.ylabel(\"Revenue [2023 USD]\");"
   ]
  },
  {
   "cell_type": "code",
   "execution_count": null,
   "id": "d7ec772f",
   "metadata": {},
   "outputs": [],
   "source": [
    "import seaborn as sns\n",
    "import matplotlib.pyplot as plt\n",
    "sns.scatterplot(x=df_movies['budget_2023_usd'], y=df_movies['revenue_2023_usd'], alpha=0.1)\n",
    "plt.xlim(0, 0.6e9)\n",
    "plt.ylim(0, 3e9)\n",
    "# plt.gca().set_aspect('equal', adjustable='box')\n",
    "plt.plot([0, 3e9], [0, 3e9])\n",
    "plt.xlabel(\"Budget [2023 USD]\")\n",
    "plt.ylabel(\"Revenue [2023 USD]\");"
   ]
  },
  {
   "cell_type": "code",
   "execution_count": null,
   "id": "1bcf272a",
   "metadata": {},
   "outputs": [],
   "source": [
    "import seaborn as sns\n",
    "import matplotlib.pyplot as plt\n",
    "sns.scatterplot(x=df_movies['budget_2023_usd'], y=df_movies['profit_2023_usd'], alpha=0.1)\n",
    "# plt.xlim(0, 0.6e9)\n",
    "# plt.ylim(0, 3e9)\n",
    "# plt.gca().set_aspect('equal', adjustable='box')\n",
    "# plt.plot([0, 3e9], [0, 3e9])\n",
    "plt.xlabel(\"Budget [2023 USD]\")\n",
    "plt.ylabel(\"Profit [2023 USD]\");"
   ]
  },
  {
   "cell_type": "code",
   "execution_count": null,
   "id": "3dcc227d",
   "metadata": {},
   "outputs": [],
   "source": [
    "sns.scatterplot(x=df_movies['budget_2023_usd'], y=df_movies['vote_average'], alpha=0.1)"
   ]
  },
  {
   "cell_type": "code",
   "execution_count": null,
   "id": "1445ae2a",
   "metadata": {},
   "outputs": [],
   "source": [
    "sns.scatterplot(x=df_movies['profit_2023_usd'], y=df_movies['vote_average'], alpha=0.1)"
   ]
  },
  {
   "cell_type": "code",
   "execution_count": null,
   "id": "cac4f27a",
   "metadata": {},
   "outputs": [],
   "source": [
    "sns.scatterplot(x=df_movies['roi'], y=df_movies['vote_average'], alpha=0.1)\n",
    "plt.xlim(-100, 2000)"
   ]
  },
  {
   "cell_type": "code",
   "execution_count": null,
   "id": "341308b3",
   "metadata": {},
   "outputs": [],
   "source": [
    "# Define a function for rating_category\n",
    "def get_rating_category(vote_average):\n",
    "    if vote_average >= 7:\n",
    "        return \"good\";\n",
    "    if vote_average >= 5:\n",
    "        return \"ok\";\n",
    "    else:\n",
    "        return \"bad\";\n",
    "\n",
    "# Apply the function to df_movies \n",
    "df_movies['rating_category'] = df_movies['vote_average'].apply(get_rating_category)\n",
    "df_movies.sort_values(by=\"vote_average\", ascending=False)"
   ]
  },
  {
   "cell_type": "code",
   "execution_count": null,
   "id": "99cd4138",
   "metadata": {},
   "outputs": [],
   "source": [
    "# # Drop all movies with rating 'bad'\n",
    "# df_movies = df_movies[df_movies['rating_category'] != 'bad'].copy()"
   ]
  },
  {
   "cell_type": "code",
   "execution_count": null,
   "id": "29d37041",
   "metadata": {},
   "outputs": [],
   "source": [
    "from sklearn.model_selection import train_test_split\n",
    "from sklearn.ensemble import RandomForestClassifier\n",
    "from sklearn.preprocessing import LabelEncoder\n",
    "from sklearn.metrics import classification_report\n",
    "\n",
    "# Encode target variable\n",
    "le_rating = LabelEncoder()\n",
    "df_movies['rating_encoded'] = le_rating.fit_transform(df_movies['rating_category'])\n",
    "df_movies\n",
    "\n",
    "# Independet variables (X) and dependent variable (y)\n",
    "X = df_movies[['budget', 'director']]\n",
    "y = df_movies['rating_encoded']\n",
    "\n",
    "# Train/test split\n",
    "X_train, X_test, y_train, y_test = train_test_split(X, y, test_size=0.25, random_state=123)\n",
    "\n",
    "# Train model\n",
    "model = RandomForestClassifier(class_weight='balanced')\n",
    "model.fit(X_train, y_train)\n",
    "\n",
    "# Predict\n",
    "y_pred = model.predict(X_test)\n",
    "\n",
    "# Evaluate\n",
    "print(classification_report(y_test, y_pred, target_names=le_rating.classes_))"
   ]
  },
  {
   "cell_type": "markdown",
   "id": "7d834c42",
   "metadata": {},
   "source": []
  }
 ],
 "metadata": {
  "kernelspec": {
   "display_name": "base",
   "language": "python",
   "name": "python3"
  },
  "language_info": {
   "codemirror_mode": {
    "name": "ipython",
    "version": 3
   },
   "file_extension": ".py",
   "mimetype": "text/x-python",
   "name": "python",
   "nbconvert_exporter": "python",
   "pygments_lexer": "ipython3",
   "version": "3.13.5"
  }
 },
 "nbformat": 4,
 "nbformat_minor": 5
}
