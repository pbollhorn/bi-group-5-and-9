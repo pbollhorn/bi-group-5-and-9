{
 "cells": [
  {
   "cell_type": "code",
   "execution_count": 1,
   "id": "1e6b069d",
   "metadata": {},
   "outputs": [],
   "source": [
    "import sys\n",
    "sys.path.append(\"..\")\n",
    "\n",
    "import pandas as pd\n",
    "from reader import generic_reader"
   ]
  },
  {
   "cell_type": "code",
   "execution_count": null,
   "id": "90ffd2fc",
   "metadata": {},
   "outputs": [
    {
     "data": {
      "text/plain": [
       "0       [5690, 56146, 74299, 65531, 74297, 12824, 5614...\n",
       "1                                                 [60725]\n",
       "2                                                  [5140]\n",
       "3                                                 [28239]\n",
       "4                                                 [21217]\n",
       "                              ...                        \n",
       "2796                                              [15217]\n",
       "2797                                              [66728]\n",
       "2798                                               [2127]\n",
       "2799                                              [82511]\n",
       "2800                                             [527607]\n",
       "Name: director_person_ids, Length: 2801, dtype: object"
      ]
     },
     "execution_count": 2,
     "metadata": {},
     "output_type": "execute_result"
    }
   ],
   "source": [
    "df_movies = generic_reader.read_csv_file_to_data_frame(\"../movie_data/movies.csv\")\n",
    "len(df_movies[\"director_person_ids\"])"
   ]
  },
  {
   "cell_type": "code",
   "execution_count": null,
   "id": "32aec1bb",
   "metadata": {},
   "outputs": [
    {
     "data": {
      "text/plain": [
       "0       [5690, 56146, 74299, 65531, 74297, 12824, 5614...\n",
       "1                                                 [60725]\n",
       "2                                                  [5140]\n",
       "3                                                 [28239]\n",
       "4                                                 [21217]\n",
       "                              ...                        \n",
       "2796                                              [15217]\n",
       "2797                                              [66728]\n",
       "2798                                               [2127]\n",
       "2799                                              [82511]\n",
       "2800                                             [527607]\n",
       "Name: director_person_ids, Length: 2801, dtype: object"
      ]
     },
     "execution_count": 3,
     "metadata": {},
     "output_type": "execute_result"
    }
   ],
   "source": [
    "len(df_movies[\"director_person_ids\"].dropna())"
   ]
  }
 ],
 "metadata": {
  "kernelspec": {
   "display_name": "base",
   "language": "python",
   "name": "python3"
  },
  "language_info": {
   "codemirror_mode": {
    "name": "ipython",
    "version": 3
   },
   "file_extension": ".py",
   "mimetype": "text/x-python",
   "name": "python",
   "nbconvert_exporter": "python",
   "pygments_lexer": "ipython3",
   "version": "3.13.5"
  }
 },
 "nbformat": 4,
 "nbformat_minor": 5
}
