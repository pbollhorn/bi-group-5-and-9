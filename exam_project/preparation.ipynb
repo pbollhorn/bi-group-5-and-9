{
 "cells": [
  {
   "cell_type": "code",
   "execution_count": null,
   "id": "e5816ebd",
   "metadata": {},
   "outputs": [],
   "source": [
    "import sys\n",
    "sys.path.append(\"..\")\n",
    "\n",
    "import pandas as pd\n",
    "import ast\n",
    "import seaborn as sns\n",
    "import matplotlib.pyplot as plt\n",
    "from reader import generic_reader\n",
    "from inflation import read_cpi_by_year, convert_usd"
   ]
  },
  {
   "cell_type": "code",
   "execution_count": null,
   "id": "782c392f",
   "metadata": {},
   "outputs": [
    {
     "ename": "NameError",
     "evalue": "name 'read_cpi_by_year' is not defined",
     "output_type": "error",
     "traceback": [
      "\u001b[1;31m---------------------------------------------------------------------------\u001b[0m",
      "\u001b[1;31mNameError\u001b[0m                                 Traceback (most recent call last)",
      "Cell \u001b[1;32mIn[2], line 1\u001b[0m\n\u001b[1;32m----> 1\u001b[0m cpi_by_year \u001b[38;5;241m=\u001b[39m read_cpi_by_year(\u001b[38;5;124m\"\u001b[39m\u001b[38;5;124minflation_data/cpiai.csv\u001b[39m\u001b[38;5;124m\"\u001b[39m)\n",
      "\u001b[1;31mNameError\u001b[0m: name 'read_cpi_by_year' is not defined"
     ]
    }
   ],
   "source": [
    "cpi_by_year = read_cpi_by_year(\"inflation_data/cpiai.csv\")"
   ]
  },
  {
   "cell_type": "markdown",
   "id": "fe9de17c",
   "metadata": {},
   "source": [
    "## Prepartion of movie data"
   ]
  },
  {
   "cell_type": "markdown",
   "id": "9165115c",
   "metadata": {},
   "source": [
    "Our dataset of movies, are movies from the USA, from the periode 1/1/2000 to 31/12/2023 and with a vote count of atleast 10"
   ]
  },
  {
   "cell_type": "code",
   "execution_count": null,
   "id": "409e36a2",
   "metadata": {},
   "outputs": [],
   "source": [
    "movies = generic_reader.read_csv_file_to_data_frame(\"movie_data/movies.csv\")\n",
    "print(movies.info())\n",
    "movies"
   ]
  },
  {
   "cell_type": "markdown",
   "id": "dba7963a",
   "metadata": {},
   "source": [
    "We make a new dataframe keeping only the columns we want to use."
   ]
  },
  {
   "cell_type": "code",
   "execution_count": null,
   "id": "ba8564a6",
   "metadata": {},
   "outputs": [],
   "source": [
    "columns_to_keep = ['budget', 'movie_id', 'original_title', 'overview', 'release_date', 'revenue', 'runtime', 'vote_average', 'vote_count', 'director_person_ids', 'genre_ids', 'collection_id', 'cast_person_ids', 'cast_credit_ids', 'crew_person_ids', 'crew_credit_ids']\n",
    "df_movies = movies[columns_to_keep].copy()\n",
    "\n",
    "df_movies['release_date'] = pd.to_datetime(df_movies['release_date'], errors='coerce')\n",
    "df_movies['genre_ids'] = movies['genre_ids'].apply(ast.literal_eval)\n",
    "df_movies"
   ]
  },
  {
   "cell_type": "markdown",
   "id": "51f28c5e",
   "metadata": {},
   "source": [
    "Removing animation and documentary from the dataset as we'll be fociusing on motion pictures"
   ]
  },
  {
   "cell_type": "code",
   "execution_count": null,
   "id": "8df4d371",
   "metadata": {},
   "outputs": [],
   "source": [
    "df_movies = df_movies[df_movies['genre_ids'].map({16, 99}.isdisjoint)]"
   ]
  },
  {
   "cell_type": "code",
   "execution_count": null,
   "id": "eb1b0a10",
   "metadata": {},
   "outputs": [],
   "source": [
    "df_movies.describe()"
   ]
  },
  {
   "cell_type": "markdown",
   "id": "be811ada",
   "metadata": {},
   "source": [
    "Next we'll filter the runtime, dropping movies which have a runtime below 60 mins and above 3 hours"
   ]
  },
  {
   "cell_type": "code",
   "execution_count": null,
   "id": "d4085d98",
   "metadata": {},
   "outputs": [],
   "source": [
    "df_movies = df_movies[(df_movies['runtime'] >= 60) & (df_movies['runtime'] <= 240)]"
   ]
  },
  {
   "cell_type": "code",
   "execution_count": null,
   "id": "7341f33e",
   "metadata": {},
   "outputs": [],
   "source": [
    "short_count = (df_movies['runtime'] <= 60).sum()\n",
    "long_count = (df_movies['runtime'] >= 240).sum()\n",
    "\n",
    "print(f\"Movies shorter than or equal to 60 min: {short_count}\")\n",
    "print(f\"Movies longer than or equal to 180 min: {long_count}\")\n"
   ]
  },
  {
   "cell_type": "markdown",
   "id": "6cfe1afd",
   "metadata": {},
   "source": [
    "[placerholder text] Converting to USD 2023"
   ]
  },
  {
   "cell_type": "code",
   "execution_count": null,
   "id": "e3dec8a8",
   "metadata": {},
   "outputs": [],
   "source": [
    "df_movies['budget_2023_usd'] = df_movies.apply(\n",
    "    lambda row: convert_usd(\n",
    "        original_amount=row['budget'],\n",
    "        original_year=row['release_date'].year,\n",
    "        new_year=2023,\n",
    "        cpi_by_year=cpi_by_year\n",
    "    ),\n",
    "    axis=1\n",
    ")\n",
    "\n",
    "# Convert revenue to 2023 USD\n",
    "df_movies['revenue_2023_usd'] = df_movies.apply(\n",
    "    lambda row: convert_usd(\n",
    "        original_amount=row['revenue'],\n",
    "        original_year=row['release_date'].year,\n",
    "        new_year=2023,\n",
    "        cpi_by_year=cpi_by_year\n",
    "    ),\n",
    "    axis=1\n",
    ")"
   ]
  },
  {
   "cell_type": "code",
   "execution_count": null,
   "id": "01022b7c",
   "metadata": {},
   "outputs": [],
   "source": [
    "persons = generic_reader.read_csv_file_to_data_frame(\"movie_data/persons.csv\")"
   ]
  },
  {
   "cell_type": "code",
   "execution_count": null,
   "id": "d2cae3e0",
   "metadata": {},
   "outputs": [],
   "source": [
    "persons.info()"
   ]
  },
  {
   "cell_type": "code",
   "execution_count": null,
   "id": "6a941120",
   "metadata": {},
   "outputs": [],
   "source": [
    "columns_to_keep = ['budget', 'movie_id', 'original_title', 'overview', 'release_date', 'revenue', 'runtime', 'vote_average', 'vote_count', 'director_person_ids', 'genre_ids', 'collection_id', 'cast_person_ids', 'cast_credit_ids', 'crew_person_ids', 'crew_credit_ids']\n",
    "df_persons = persons[columns_to_keep].copy()\n",
    "\n",
    "df_persons['genre_ids'] = persons['genre_ids'].apply(ast.literal_eval)\n",
    "df_persons"
   ]
  },
  {
   "cell_type": "code",
   "execution_count": null,
   "id": "67cf2921",
   "metadata": {},
   "outputs": [],
   "source": []
  }
 ],
 "metadata": {
  "kernelspec": {
   "display_name": "base",
   "language": "python",
   "name": "python3"
  },
  "language_info": {
   "codemirror_mode": {
    "name": "ipython",
    "version": 3
   },
   "file_extension": ".py",
   "mimetype": "text/x-python",
   "name": "python",
   "nbconvert_exporter": "python",
   "pygments_lexer": "ipython3",
   "version": "3.13.5"
  }
 },
 "nbformat": 4,
 "nbformat_minor": 5
}
