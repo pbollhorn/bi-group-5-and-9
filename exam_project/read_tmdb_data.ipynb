{
 "cells": [
  {
   "cell_type": "markdown",
   "id": "1f64ef66",
   "metadata": {},
   "source": [
    "# read_tmdb_data.ipynb\n",
    "\n",
    "This notebook reads JSON data from TMDB's API and stores it as CSV files:\n",
    "- **movies.csv**: Data on approx. 27000 movies from the United States from 2000-2023.\n",
    "- **persons.csv**: Data on the directors and top 10 cast members in these movies."
   ]
  },
  {
   "cell_type": "code",
   "execution_count": null,
   "id": "4649d37a",
   "metadata": {},
   "outputs": [],
   "source": [
    "import os\n",
    "import requests\n",
    "from dotenv import load_dotenv\n",
    "from time import sleep\n",
    "import pandas as pd\n",
    "\n",
    "load_dotenv()\n",
    "tmdb_api_token = os.getenv(\"TMDB_API_TOKEN\")\n",
    "\n",
    "headers = {\n",
    "    \"accept\": \"application/json\",\n",
    "    \"Authorization\": f\"Bearer {tmdb_api_token}\"\n",
    "}\n",
    "\n",
    "REQUEST_DELAY_SECONDS = 0.02"
   ]
  },
  {
   "cell_type": "markdown",
   "id": "8901a6f2",
   "metadata": {},
   "source": [
    "First we request movie_ids for all movies that live up to these requirements:\n",
    "- From the United States\n",
    "- From the years 2000-2023\n",
    "- With original_langauge = english\n",
    "- With TMDB vote count ≥ 10"
   ]
  },
  {
   "cell_type": "code",
   "execution_count": null,
   "id": "855c8d70",
   "metadata": {},
   "outputs": [],
   "source": [
    "base_url = (\n",
    "    \"https://api.themoviedb.org/3/discover/movie\"\n",
    "    \"?include_adult=false\"\n",
    "    \"&include_video=false\"\n",
    "    \"&with_origin_country=US\"\n",
    "    \"&with_original_language=en\"\n",
    "    \"&vote_count.gte=10\"\n",
    "    \"&sort_by=primary_release_date.asc\"\n",
    ")\n",
    "\n",
    "movie_ids = []\n",
    "\n",
    "# Loop through the years\n",
    "for year in range(2000, 2024):\n",
    "\n",
    "    # Loop through the pages (TMDB uses a maximum of 500 pages)\n",
    "    for page in range(1, 501):\n",
    "        url = f\"{base_url}&primary_release_year={year}&page={page}\"\n",
    "        response = requests.get(url, headers=headers)\n",
    "        if response.status_code != 200:\n",
    "            raise Exception(f\"year: {year} page: {page} status_code: {response.status_code} text: {response.text}\")\n",
    "    \n",
    "        # Extract movie_results from the response\n",
    "        movie_results = response.json().get(\"results\") \n",
    "    \n",
    "        # Stop if we have reached the last page\n",
    "        if not movie_results:\n",
    "            break\n",
    "\n",
    "        # Extend movie_ids list with the ones from movie_results\n",
    "        movie_ids.extend([movie[\"id\"] for movie in movie_results])\n",
    "    \n",
    "        sleep(REQUEST_DELAY_SECONDS)\n",
    "\n",
    "print(f\"Number of movie ids found: {len(movie_ids)}\")"
   ]
  },
  {
   "cell_type": "markdown",
   "id": "98063c0d",
   "metadata": {},
   "source": [
    "Then we request movie data for all these movie_ids, and store that in a dataframe and a CSV file"
   ]
  },
  {
   "cell_type": "code",
   "execution_count": null,
   "id": "92b351cf",
   "metadata": {},
   "outputs": [],
   "source": [
    "all_movies = []\n",
    "\n",
    "# Loop through all movie_ids and request movie data\n",
    "for movie_id in movie_ids:\n",
    "    url = f\"https://api.themoviedb.org/3/movie/{movie_id}?append_to_response=credits\"\n",
    "    response = requests.get(url, headers=headers)\n",
    "    if response.status_code != 200:\n",
    "        raise Exception(f\"movie_id: {movie_id} status_code: {response.status_code} text: {response.text}\")\n",
    "    \n",
    "    # Extract the movie data from the response as a dictionary\n",
    "    movie = response.json()\n",
    "\n",
    "    # Find the directors and put director_person_ids in the dictionary\n",
    "    movie[\"director_person_ids\"] = []\n",
    "    for credit in movie[\"credits\"][\"crew\"]:\n",
    "        if(credit[\"job\"]==\"Director\"):\n",
    "            movie[\"director_person_ids\"].append(credit[\"id\"])\n",
    "\n",
    "    # Simplify child dictionaries to list of ids\n",
    "    movie[\"genre_ids\"] = [genre[\"id\"] for genre in movie[\"genres\"]]\n",
    "    movie[\"spoken_languages\"] = [language[\"iso_639_1\"] for language in movie[\"spoken_languages\"]]\n",
    "    movie[\"production_company_ids\"] = [company[\"id\"] for company in movie[\"production_companies\"]]\n",
    "    movie[\"production_countries\"] = [country[\"iso_3166_1\"] for country in movie[\"production_countries\"]]\n",
    "    movie[\"collection_id\"] = movie[\"belongs_to_collection\"][\"id\"] if movie[\"belongs_to_collection\"] else pd.NA\n",
    "    movie[\"cast_person_ids\"] = [cast_member[\"id\"] for cast_member in movie[\"credits\"][\"cast\"]]\n",
    "    movie[\"cast_credit_ids\"] = [cast_member[\"credit_id\"] for cast_member in movie[\"credits\"][\"cast\"]]\n",
    "    movie[\"crew_person_ids\"] = [crew_member[\"id\"] for crew_member in movie[\"credits\"][\"crew\"]]\n",
    "    movie[\"crew_credit_ids\"] = [crew_member[\"credit_id\"] for crew_member in movie[\"credits\"][\"crew\"]]\n",
    "    del movie['genres']\n",
    "    del movie['production_companies']\n",
    "    del movie[\"belongs_to_collection\"]   \n",
    "    del movie[\"credits\"]\n",
    "    \n",
    "    all_movies.append(movie)\n",
    "    sleep(REQUEST_DELAY_SECONDS)  \n",
    "\n",
    "df_movies = pd.DataFrame(all_movies)\n",
    "df_movies.rename(columns={\"id\": \"movie_id\"}, inplace=True)\n",
    "df_movies.to_csv(\"../movie_data/movies.csv\", index=False)\n",
    "print(f\"Number of movies collected: {len(df_movies)}\")\n",
    "df_movies"
   ]
  },
  {
   "cell_type": "markdown",
   "id": "c4a74ebe",
   "metadata": {},
   "source": [
    "Now we find person ids for the directors in each of the movies.\n",
    "\n",
    "And then we find person ids for the top 10 cast members in each of the movies.\n",
    "\n",
    "And we combine these two lists to a unique_person_ids set."
   ]
  },
  {
   "cell_type": "code",
   "execution_count": null,
   "id": "e835374c",
   "metadata": {},
   "outputs": [],
   "source": [
    "director_person_ids = df_movies['director_person_ids'].explode().dropna().tolist()\n",
    "\n",
    "top_10_cast_person_ids = (\n",
    "    df_movies['cast_person_ids']\n",
    "    .apply(lambda ids: ids[:10])   # get first 10 for each movie\n",
    "    .explode()                     # flatten into one Series\n",
    "    .dropna()\n",
    "    .tolist()                      # convert to plain list\n",
    ")\n",
    "\n",
    "unique_person_ids = set(director_person_ids) | set(top_10_cast_person_ids)\n",
    "len(unique_person_ids)"
   ]
  },
  {
   "cell_type": "markdown",
   "id": "52e9e226",
   "metadata": {},
   "source": [
    "Finally we request person data for all these unique_person_ids, and store that in a dataframe and a CSV file."
   ]
  },
  {
   "cell_type": "code",
   "execution_count": null,
   "id": "cc138ebe",
   "metadata": {},
   "outputs": [],
   "source": [
    "all_persons = []\n",
    "\n",
    "for person_id in unique_person_ids:\n",
    "    url = f\"https://api.themoviedb.org/3/person/{person_id}\"\n",
    "    response = requests.get(url, headers=headers)\n",
    "    if response.status_code != 200:\n",
    "        raise Exception(f\"person_id: {person_id} status_code: {response.status_code} text: {response.text}\")\n",
    "    \n",
    "    # Extract the person data from the response\n",
    "    person = response.json()\n",
    "    \n",
    "    all_persons.append(person)\n",
    "    sleep(REQUEST_DELAY_SECONDS)\n",
    "    \n",
    "    \n",
    "df_persons = pd.DataFrame(all_persons)\n",
    "df_persons.rename(columns={\"id\": \"person_id\"}, inplace=True)\n",
    "df_persons.to_csv(\"../movie_data/persons.csv\", index=False)\n",
    "print(f\"Number of persons collected: {len(df_persons)}\")\n",
    "df_persons"
   ]
  }
 ],
 "metadata": {
  "kernelspec": {
   "display_name": "base",
   "language": "python",
   "name": "python3"
  },
  "language_info": {
   "codemirror_mode": {
    "name": "ipython",
    "version": 3
   },
   "file_extension": ".py",
   "mimetype": "text/x-python",
   "name": "python",
   "nbconvert_exporter": "python",
   "pygments_lexer": "ipython3",
   "version": "3.13.5"
  }
 },
 "nbformat": 4,
 "nbformat_minor": 5
}
