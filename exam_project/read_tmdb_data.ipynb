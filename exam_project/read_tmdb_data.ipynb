{
 "cells": [
  {
   "cell_type": "markdown",
   "id": "1f64ef66",
   "metadata": {},
   "source": [
    "# read_tmdb_data.ipynb\n",
    "\n",
    "This notebook reads JSON data from TMDB's API and stores it as CSV files:\n",
    "- **movies.csv**: Data on approx. 2800 movies from United States from 2000-2023\n",
    "- **persons.csv**: Data on the directors and top 10 cast in these movies.\n",
    "- POSSIBLE EXTENSION: **credits.csv**: Data on credits for all persons in these movies (both cast and crew).\n"
   ]
  },
  {
   "cell_type": "code",
   "execution_count": 1,
   "id": "4649d37a",
   "metadata": {},
   "outputs": [],
   "source": [
    "import os\n",
    "import requests\n",
    "from dotenv import load_dotenv\n",
    "from time import sleep\n",
    "import pandas as pd\n",
    "\n",
    "load_dotenv()\n",
    "tmdb_api_token = os.getenv(\"TMDB_API_TOKEN\")\n",
    "\n",
    "headers = {\n",
    "    \"accept\": \"application/json\",\n",
    "    \"Authorization\": f\"Bearer {tmdb_api_token}\"\n",
    "}\n",
    "\n",
    "REQUEST_DELAY_SECONDS = 0.02"
   ]
  },
  {
   "cell_type": "markdown",
   "id": "8901a6f2",
   "metadata": {},
   "source": [
    "First we request movie_ids for all movies that live up to these requirements:\n",
    "- From the United States\n",
    "- From the years 2000-2023\n",
    "- With original_langauge = english\n",
    "- With TMDB vote count ≥ 1000"
   ]
  },
  {
   "cell_type": "code",
   "execution_count": 2,
   "id": "855c8d70",
   "metadata": {},
   "outputs": [
    {
     "name": "stdout",
     "output_type": "stream",
     "text": [
      "Number of movie ids found: 2802\n"
     ]
    }
   ],
   "source": [
    "base_url = (\n",
    "    \"https://api.themoviedb.org/3/discover/movie\"\n",
    "    \"?include_adult=false\"\n",
    "    \"&include_video=false\"\n",
    "    \"&language=en-US\"\n",
    "    \"&with_original_language=en\"\n",
    "    \"&with_origin_country=US\"\n",
    "    \"&vote_count.gte=1000\"\n",
    "    \"&primary_release_date.gte=2000-01-01\"\n",
    "    \"&primary_release_date.lte=2023-12-31\"\n",
    "    \"&sort_by=primary_release_date.asc\"\n",
    ")\n",
    "\n",
    "movie_ids = []\n",
    "\n",
    "# Loop through all pages (TMDB has a maximum of 500 pages)\n",
    "for page in range(1, 501):\n",
    "    url = f\"{base_url}&page={page}\"\n",
    "    response = requests.get(url, headers=headers)\n",
    "    if response.status_code != 200:\n",
    "        raise Exception(f\"page: {page} Status code: {response.status_code} Text: {response.text}\")\n",
    "    \n",
    "    # Extract movie_results from the response\n",
    "    movie_results = response.json().get(\"results\") \n",
    "    \n",
    "    # Stop if we have reached the last page\n",
    "    if not movie_results:\n",
    "        break\n",
    "\n",
    "    # Extend movie_ids list with the ones from movie_results\n",
    "    movie_ids.extend([movie[\"id\"] for movie in movie_results])\n",
    "    \n",
    "    sleep(REQUEST_DELAY_SECONDS)\n",
    "\n",
    "print(f\"Number of movie ids found: {len(movie_ids)}\")"
   ]
  },
  {
   "cell_type": "markdown",
   "id": "98063c0d",
   "metadata": {},
   "source": [
    "Then we request movie data for all these movie_ids, and store that in a dataframe and a CSV file"
   ]
  },
  {
   "cell_type": "code",
   "execution_count": 3,
   "id": "92b351cf",
   "metadata": {},
   "outputs": [
    {
     "ename": "KeyboardInterrupt",
     "evalue": "",
     "output_type": "error",
     "traceback": [
      "\u001b[1;31m---------------------------------------------------------------------------\u001b[0m",
      "\u001b[1;31mKeyboardInterrupt\u001b[0m                         Traceback (most recent call last)",
      "Cell \u001b[1;32mIn[3], line 6\u001b[0m\n\u001b[0;32m      4\u001b[0m \u001b[38;5;28;01mfor\u001b[39;00m movie_id \u001b[38;5;129;01min\u001b[39;00m movie_ids:\n\u001b[0;32m      5\u001b[0m     url \u001b[38;5;241m=\u001b[39m \u001b[38;5;124mf\u001b[39m\u001b[38;5;124m\"\u001b[39m\u001b[38;5;124mhttps://api.themoviedb.org/3/movie/\u001b[39m\u001b[38;5;132;01m{\u001b[39;00mmovie_id\u001b[38;5;132;01m}\u001b[39;00m\u001b[38;5;124m?language=en-US&append_to_response=credits\u001b[39m\u001b[38;5;124m\"\u001b[39m\n\u001b[1;32m----> 6\u001b[0m     response \u001b[38;5;241m=\u001b[39m requests\u001b[38;5;241m.\u001b[39mget(url, headers\u001b[38;5;241m=\u001b[39mheaders)\n\u001b[0;32m      7\u001b[0m     \u001b[38;5;28;01mif\u001b[39;00m response\u001b[38;5;241m.\u001b[39mstatus_code \u001b[38;5;241m!=\u001b[39m \u001b[38;5;241m200\u001b[39m:\n\u001b[0;32m      8\u001b[0m         \u001b[38;5;28;01mraise\u001b[39;00m \u001b[38;5;167;01mException\u001b[39;00m(\u001b[38;5;124mf\u001b[39m\u001b[38;5;124m\"\u001b[39m\u001b[38;5;124mmovie_id: \u001b[39m\u001b[38;5;132;01m{\u001b[39;00mmovie_id\u001b[38;5;132;01m}\u001b[39;00m\u001b[38;5;124m Status code: \u001b[39m\u001b[38;5;132;01m{\u001b[39;00mresponse\u001b[38;5;241m.\u001b[39mstatus_code\u001b[38;5;132;01m}\u001b[39;00m\u001b[38;5;124m Text: \u001b[39m\u001b[38;5;132;01m{\u001b[39;00mresponse\u001b[38;5;241m.\u001b[39mtext\u001b[38;5;132;01m}\u001b[39;00m\u001b[38;5;124m\"\u001b[39m)\n",
      "File \u001b[1;32mc:\\Users\\User\\anaconda3\\Lib\\site-packages\\requests\\api.py:73\u001b[0m, in \u001b[0;36mget\u001b[1;34m(url, params, **kwargs)\u001b[0m\n\u001b[0;32m     62\u001b[0m \u001b[38;5;28;01mdef\u001b[39;00m\u001b[38;5;250m \u001b[39m\u001b[38;5;21mget\u001b[39m(url, params\u001b[38;5;241m=\u001b[39m\u001b[38;5;28;01mNone\u001b[39;00m, \u001b[38;5;241m*\u001b[39m\u001b[38;5;241m*\u001b[39mkwargs):\n\u001b[0;32m     63\u001b[0m \u001b[38;5;250m    \u001b[39m\u001b[38;5;124mr\u001b[39m\u001b[38;5;124;03m\"\"\"Sends a GET request.\u001b[39;00m\n\u001b[0;32m     64\u001b[0m \n\u001b[0;32m     65\u001b[0m \u001b[38;5;124;03m    :param url: URL for the new :class:`Request` object.\u001b[39;00m\n\u001b[1;32m   (...)\u001b[0m\n\u001b[0;32m     70\u001b[0m \u001b[38;5;124;03m    :rtype: requests.Response\u001b[39;00m\n\u001b[0;32m     71\u001b[0m \u001b[38;5;124;03m    \"\"\"\u001b[39;00m\n\u001b[1;32m---> 73\u001b[0m     \u001b[38;5;28;01mreturn\u001b[39;00m request(\u001b[38;5;124m\"\u001b[39m\u001b[38;5;124mget\u001b[39m\u001b[38;5;124m\"\u001b[39m, url, params\u001b[38;5;241m=\u001b[39mparams, \u001b[38;5;241m*\u001b[39m\u001b[38;5;241m*\u001b[39mkwargs)\n",
      "File \u001b[1;32mc:\\Users\\User\\anaconda3\\Lib\\site-packages\\requests\\api.py:59\u001b[0m, in \u001b[0;36mrequest\u001b[1;34m(method, url, **kwargs)\u001b[0m\n\u001b[0;32m     55\u001b[0m \u001b[38;5;66;03m# By using the 'with' statement we are sure the session is closed, thus we\u001b[39;00m\n\u001b[0;32m     56\u001b[0m \u001b[38;5;66;03m# avoid leaving sockets open which can trigger a ResourceWarning in some\u001b[39;00m\n\u001b[0;32m     57\u001b[0m \u001b[38;5;66;03m# cases, and look like a memory leak in others.\u001b[39;00m\n\u001b[0;32m     58\u001b[0m \u001b[38;5;28;01mwith\u001b[39;00m sessions\u001b[38;5;241m.\u001b[39mSession() \u001b[38;5;28;01mas\u001b[39;00m session:\n\u001b[1;32m---> 59\u001b[0m     \u001b[38;5;28;01mreturn\u001b[39;00m session\u001b[38;5;241m.\u001b[39mrequest(method\u001b[38;5;241m=\u001b[39mmethod, url\u001b[38;5;241m=\u001b[39murl, \u001b[38;5;241m*\u001b[39m\u001b[38;5;241m*\u001b[39mkwargs)\n",
      "File \u001b[1;32mc:\\Users\\User\\anaconda3\\Lib\\site-packages\\requests\\sessions.py:589\u001b[0m, in \u001b[0;36mSession.request\u001b[1;34m(self, method, url, params, data, headers, cookies, files, auth, timeout, allow_redirects, proxies, hooks, stream, verify, cert, json)\u001b[0m\n\u001b[0;32m    584\u001b[0m send_kwargs \u001b[38;5;241m=\u001b[39m {\n\u001b[0;32m    585\u001b[0m     \u001b[38;5;124m\"\u001b[39m\u001b[38;5;124mtimeout\u001b[39m\u001b[38;5;124m\"\u001b[39m: timeout,\n\u001b[0;32m    586\u001b[0m     \u001b[38;5;124m\"\u001b[39m\u001b[38;5;124mallow_redirects\u001b[39m\u001b[38;5;124m\"\u001b[39m: allow_redirects,\n\u001b[0;32m    587\u001b[0m }\n\u001b[0;32m    588\u001b[0m send_kwargs\u001b[38;5;241m.\u001b[39mupdate(settings)\n\u001b[1;32m--> 589\u001b[0m resp \u001b[38;5;241m=\u001b[39m \u001b[38;5;28mself\u001b[39m\u001b[38;5;241m.\u001b[39msend(prep, \u001b[38;5;241m*\u001b[39m\u001b[38;5;241m*\u001b[39msend_kwargs)\n\u001b[0;32m    591\u001b[0m \u001b[38;5;28;01mreturn\u001b[39;00m resp\n",
      "File \u001b[1;32mc:\\Users\\User\\anaconda3\\Lib\\site-packages\\requests\\sessions.py:703\u001b[0m, in \u001b[0;36mSession.send\u001b[1;34m(self, request, **kwargs)\u001b[0m\n\u001b[0;32m    700\u001b[0m start \u001b[38;5;241m=\u001b[39m preferred_clock()\n\u001b[0;32m    702\u001b[0m \u001b[38;5;66;03m# Send the request\u001b[39;00m\n\u001b[1;32m--> 703\u001b[0m r \u001b[38;5;241m=\u001b[39m adapter\u001b[38;5;241m.\u001b[39msend(request, \u001b[38;5;241m*\u001b[39m\u001b[38;5;241m*\u001b[39mkwargs)\n\u001b[0;32m    705\u001b[0m \u001b[38;5;66;03m# Total elapsed time of the request (approximately)\u001b[39;00m\n\u001b[0;32m    706\u001b[0m elapsed \u001b[38;5;241m=\u001b[39m preferred_clock() \u001b[38;5;241m-\u001b[39m start\n",
      "File \u001b[1;32mc:\\Users\\User\\anaconda3\\Lib\\site-packages\\requests\\adapters.py:667\u001b[0m, in \u001b[0;36mHTTPAdapter.send\u001b[1;34m(self, request, stream, timeout, verify, cert, proxies)\u001b[0m\n\u001b[0;32m    664\u001b[0m     timeout \u001b[38;5;241m=\u001b[39m TimeoutSauce(connect\u001b[38;5;241m=\u001b[39mtimeout, read\u001b[38;5;241m=\u001b[39mtimeout)\n\u001b[0;32m    666\u001b[0m \u001b[38;5;28;01mtry\u001b[39;00m:\n\u001b[1;32m--> 667\u001b[0m     resp \u001b[38;5;241m=\u001b[39m conn\u001b[38;5;241m.\u001b[39murlopen(\n\u001b[0;32m    668\u001b[0m         method\u001b[38;5;241m=\u001b[39mrequest\u001b[38;5;241m.\u001b[39mmethod,\n\u001b[0;32m    669\u001b[0m         url\u001b[38;5;241m=\u001b[39murl,\n\u001b[0;32m    670\u001b[0m         body\u001b[38;5;241m=\u001b[39mrequest\u001b[38;5;241m.\u001b[39mbody,\n\u001b[0;32m    671\u001b[0m         headers\u001b[38;5;241m=\u001b[39mrequest\u001b[38;5;241m.\u001b[39mheaders,\n\u001b[0;32m    672\u001b[0m         redirect\u001b[38;5;241m=\u001b[39m\u001b[38;5;28;01mFalse\u001b[39;00m,\n\u001b[0;32m    673\u001b[0m         assert_same_host\u001b[38;5;241m=\u001b[39m\u001b[38;5;28;01mFalse\u001b[39;00m,\n\u001b[0;32m    674\u001b[0m         preload_content\u001b[38;5;241m=\u001b[39m\u001b[38;5;28;01mFalse\u001b[39;00m,\n\u001b[0;32m    675\u001b[0m         decode_content\u001b[38;5;241m=\u001b[39m\u001b[38;5;28;01mFalse\u001b[39;00m,\n\u001b[0;32m    676\u001b[0m         retries\u001b[38;5;241m=\u001b[39m\u001b[38;5;28mself\u001b[39m\u001b[38;5;241m.\u001b[39mmax_retries,\n\u001b[0;32m    677\u001b[0m         timeout\u001b[38;5;241m=\u001b[39mtimeout,\n\u001b[0;32m    678\u001b[0m         chunked\u001b[38;5;241m=\u001b[39mchunked,\n\u001b[0;32m    679\u001b[0m     )\n\u001b[0;32m    681\u001b[0m \u001b[38;5;28;01mexcept\u001b[39;00m (ProtocolError, \u001b[38;5;167;01mOSError\u001b[39;00m) \u001b[38;5;28;01mas\u001b[39;00m err:\n\u001b[0;32m    682\u001b[0m     \u001b[38;5;28;01mraise\u001b[39;00m \u001b[38;5;167;01mConnectionError\u001b[39;00m(err, request\u001b[38;5;241m=\u001b[39mrequest)\n",
      "File \u001b[1;32mc:\\Users\\User\\anaconda3\\Lib\\site-packages\\urllib3\\connectionpool.py:787\u001b[0m, in \u001b[0;36mHTTPConnectionPool.urlopen\u001b[1;34m(self, method, url, body, headers, retries, redirect, assert_same_host, timeout, pool_timeout, release_conn, chunked, body_pos, preload_content, decode_content, **response_kw)\u001b[0m\n\u001b[0;32m    784\u001b[0m response_conn \u001b[38;5;241m=\u001b[39m conn \u001b[38;5;28;01mif\u001b[39;00m \u001b[38;5;129;01mnot\u001b[39;00m release_conn \u001b[38;5;28;01melse\u001b[39;00m \u001b[38;5;28;01mNone\u001b[39;00m\n\u001b[0;32m    786\u001b[0m \u001b[38;5;66;03m# Make the request on the HTTPConnection object\u001b[39;00m\n\u001b[1;32m--> 787\u001b[0m response \u001b[38;5;241m=\u001b[39m \u001b[38;5;28mself\u001b[39m\u001b[38;5;241m.\u001b[39m_make_request(\n\u001b[0;32m    788\u001b[0m     conn,\n\u001b[0;32m    789\u001b[0m     method,\n\u001b[0;32m    790\u001b[0m     url,\n\u001b[0;32m    791\u001b[0m     timeout\u001b[38;5;241m=\u001b[39mtimeout_obj,\n\u001b[0;32m    792\u001b[0m     body\u001b[38;5;241m=\u001b[39mbody,\n\u001b[0;32m    793\u001b[0m     headers\u001b[38;5;241m=\u001b[39mheaders,\n\u001b[0;32m    794\u001b[0m     chunked\u001b[38;5;241m=\u001b[39mchunked,\n\u001b[0;32m    795\u001b[0m     retries\u001b[38;5;241m=\u001b[39mretries,\n\u001b[0;32m    796\u001b[0m     response_conn\u001b[38;5;241m=\u001b[39mresponse_conn,\n\u001b[0;32m    797\u001b[0m     preload_content\u001b[38;5;241m=\u001b[39mpreload_content,\n\u001b[0;32m    798\u001b[0m     decode_content\u001b[38;5;241m=\u001b[39mdecode_content,\n\u001b[0;32m    799\u001b[0m     \u001b[38;5;241m*\u001b[39m\u001b[38;5;241m*\u001b[39mresponse_kw,\n\u001b[0;32m    800\u001b[0m )\n\u001b[0;32m    802\u001b[0m \u001b[38;5;66;03m# Everything went great!\u001b[39;00m\n\u001b[0;32m    803\u001b[0m clean_exit \u001b[38;5;241m=\u001b[39m \u001b[38;5;28;01mTrue\u001b[39;00m\n",
      "File \u001b[1;32mc:\\Users\\User\\anaconda3\\Lib\\site-packages\\urllib3\\connectionpool.py:464\u001b[0m, in \u001b[0;36mHTTPConnectionPool._make_request\u001b[1;34m(self, conn, method, url, body, headers, retries, timeout, chunked, response_conn, preload_content, decode_content, enforce_content_length)\u001b[0m\n\u001b[0;32m    461\u001b[0m \u001b[38;5;28;01mtry\u001b[39;00m:\n\u001b[0;32m    462\u001b[0m     \u001b[38;5;66;03m# Trigger any extra validation we need to do.\u001b[39;00m\n\u001b[0;32m    463\u001b[0m     \u001b[38;5;28;01mtry\u001b[39;00m:\n\u001b[1;32m--> 464\u001b[0m         \u001b[38;5;28mself\u001b[39m\u001b[38;5;241m.\u001b[39m_validate_conn(conn)\n\u001b[0;32m    465\u001b[0m     \u001b[38;5;28;01mexcept\u001b[39;00m (SocketTimeout, BaseSSLError) \u001b[38;5;28;01mas\u001b[39;00m e:\n\u001b[0;32m    466\u001b[0m         \u001b[38;5;28mself\u001b[39m\u001b[38;5;241m.\u001b[39m_raise_timeout(err\u001b[38;5;241m=\u001b[39me, url\u001b[38;5;241m=\u001b[39murl, timeout_value\u001b[38;5;241m=\u001b[39mconn\u001b[38;5;241m.\u001b[39mtimeout)\n",
      "File \u001b[1;32mc:\\Users\\User\\anaconda3\\Lib\\site-packages\\urllib3\\connectionpool.py:1093\u001b[0m, in \u001b[0;36mHTTPSConnectionPool._validate_conn\u001b[1;34m(self, conn)\u001b[0m\n\u001b[0;32m   1091\u001b[0m \u001b[38;5;66;03m# Force connect early to allow us to validate the connection.\u001b[39;00m\n\u001b[0;32m   1092\u001b[0m \u001b[38;5;28;01mif\u001b[39;00m conn\u001b[38;5;241m.\u001b[39mis_closed:\n\u001b[1;32m-> 1093\u001b[0m     conn\u001b[38;5;241m.\u001b[39mconnect()\n\u001b[0;32m   1095\u001b[0m \u001b[38;5;66;03m# TODO revise this, see https://github.com/urllib3/urllib3/issues/2791\u001b[39;00m\n\u001b[0;32m   1096\u001b[0m \u001b[38;5;28;01mif\u001b[39;00m \u001b[38;5;129;01mnot\u001b[39;00m conn\u001b[38;5;241m.\u001b[39mis_verified \u001b[38;5;129;01mand\u001b[39;00m \u001b[38;5;129;01mnot\u001b[39;00m conn\u001b[38;5;241m.\u001b[39mproxy_is_verified:\n",
      "File \u001b[1;32mc:\\Users\\User\\anaconda3\\Lib\\site-packages\\urllib3\\connection.py:704\u001b[0m, in \u001b[0;36mHTTPSConnection.connect\u001b[1;34m(self)\u001b[0m\n\u001b[0;32m    702\u001b[0m \u001b[38;5;28;01mtry\u001b[39;00m:\n\u001b[0;32m    703\u001b[0m     sock: socket\u001b[38;5;241m.\u001b[39msocket \u001b[38;5;241m|\u001b[39m ssl\u001b[38;5;241m.\u001b[39mSSLSocket\n\u001b[1;32m--> 704\u001b[0m     \u001b[38;5;28mself\u001b[39m\u001b[38;5;241m.\u001b[39msock \u001b[38;5;241m=\u001b[39m sock \u001b[38;5;241m=\u001b[39m \u001b[38;5;28mself\u001b[39m\u001b[38;5;241m.\u001b[39m_new_conn()\n\u001b[0;32m    705\u001b[0m     server_hostname: \u001b[38;5;28mstr\u001b[39m \u001b[38;5;241m=\u001b[39m \u001b[38;5;28mself\u001b[39m\u001b[38;5;241m.\u001b[39mhost\n\u001b[0;32m    706\u001b[0m     tls_in_tls \u001b[38;5;241m=\u001b[39m \u001b[38;5;28;01mFalse\u001b[39;00m\n",
      "File \u001b[1;32mc:\\Users\\User\\anaconda3\\Lib\\site-packages\\urllib3\\connection.py:198\u001b[0m, in \u001b[0;36mHTTPConnection._new_conn\u001b[1;34m(self)\u001b[0m\n\u001b[0;32m    193\u001b[0m \u001b[38;5;250m\u001b[39m\u001b[38;5;124;03m\"\"\"Establish a socket connection and set nodelay settings on it.\u001b[39;00m\n\u001b[0;32m    194\u001b[0m \n\u001b[0;32m    195\u001b[0m \u001b[38;5;124;03m:return: New socket connection.\u001b[39;00m\n\u001b[0;32m    196\u001b[0m \u001b[38;5;124;03m\"\"\"\u001b[39;00m\n\u001b[0;32m    197\u001b[0m \u001b[38;5;28;01mtry\u001b[39;00m:\n\u001b[1;32m--> 198\u001b[0m     sock \u001b[38;5;241m=\u001b[39m connection\u001b[38;5;241m.\u001b[39mcreate_connection(\n\u001b[0;32m    199\u001b[0m         (\u001b[38;5;28mself\u001b[39m\u001b[38;5;241m.\u001b[39m_dns_host, \u001b[38;5;28mself\u001b[39m\u001b[38;5;241m.\u001b[39mport),\n\u001b[0;32m    200\u001b[0m         \u001b[38;5;28mself\u001b[39m\u001b[38;5;241m.\u001b[39mtimeout,\n\u001b[0;32m    201\u001b[0m         source_address\u001b[38;5;241m=\u001b[39m\u001b[38;5;28mself\u001b[39m\u001b[38;5;241m.\u001b[39msource_address,\n\u001b[0;32m    202\u001b[0m         socket_options\u001b[38;5;241m=\u001b[39m\u001b[38;5;28mself\u001b[39m\u001b[38;5;241m.\u001b[39msocket_options,\n\u001b[0;32m    203\u001b[0m     )\n\u001b[0;32m    204\u001b[0m \u001b[38;5;28;01mexcept\u001b[39;00m socket\u001b[38;5;241m.\u001b[39mgaierror \u001b[38;5;28;01mas\u001b[39;00m e:\n\u001b[0;32m    205\u001b[0m     \u001b[38;5;28;01mraise\u001b[39;00m NameResolutionError(\u001b[38;5;28mself\u001b[39m\u001b[38;5;241m.\u001b[39mhost, \u001b[38;5;28mself\u001b[39m, e) \u001b[38;5;28;01mfrom\u001b[39;00m\u001b[38;5;250m \u001b[39m\u001b[38;5;21;01me\u001b[39;00m\n",
      "File \u001b[1;32mc:\\Users\\User\\anaconda3\\Lib\\site-packages\\urllib3\\util\\connection.py:73\u001b[0m, in \u001b[0;36mcreate_connection\u001b[1;34m(address, timeout, source_address, socket_options)\u001b[0m\n\u001b[0;32m     71\u001b[0m \u001b[38;5;28;01mif\u001b[39;00m source_address:\n\u001b[0;32m     72\u001b[0m     sock\u001b[38;5;241m.\u001b[39mbind(source_address)\n\u001b[1;32m---> 73\u001b[0m sock\u001b[38;5;241m.\u001b[39mconnect(sa)\n\u001b[0;32m     74\u001b[0m \u001b[38;5;66;03m# Break explicitly a reference cycle\u001b[39;00m\n\u001b[0;32m     75\u001b[0m err \u001b[38;5;241m=\u001b[39m \u001b[38;5;28;01mNone\u001b[39;00m\n",
      "\u001b[1;31mKeyboardInterrupt\u001b[0m: "
     ]
    }
   ],
   "source": [
    "all_movies = []\n",
    "\n",
    "# Loop through all movie_ids and request movie data\n",
    "for movie_id in movie_ids:\n",
    "    url = f\"https://api.themoviedb.org/3/movie/{movie_id}?language=en-US&append_to_response=credits\"\n",
    "    response = requests.get(url, headers=headers)\n",
    "    if response.status_code != 200:\n",
    "        raise Exception(f\"movie_id: {movie_id} Status code: {response.status_code} Text: {response.text}\")\n",
    "    \n",
    "    # Extract the movie data from the response as a dictionary\n",
    "    movie = response.json()\n",
    "\n",
    "    # Find the directors and put director_person_ids in the dictionary\n",
    "    movie[\"director_person_ids\"] = []\n",
    "    for credit in movie[\"credits\"][\"crew\"]:\n",
    "        if(credit[\"job\"]==\"Director\"):\n",
    "            movie[\"director_person_ids\"].append(credit[\"id\"])\n",
    "\n",
    "    # Simplify child dictionaries to list of ids\n",
    "    movie[\"genre_ids\"] = [genre[\"id\"] for genre in movie[\"genres\"]]\n",
    "    movie[\"spoken_languages\"] = [language[\"iso_639_1\"] for language in movie[\"spoken_languages\"]]\n",
    "    movie[\"production_company_ids\"] = [company[\"id\"] for company in movie[\"production_companies\"]]\n",
    "    movie[\"production_countries\"] = [country[\"iso_3166_1\"] for country in movie[\"production_countries\"]]\n",
    "    movie[\"collection_id\"] = movie[\"belongs_to_collection\"][\"id\"] if movie[\"belongs_to_collection\"] else pd.NA\n",
    "    movie[\"cast_person_ids\"] = [cast_member[\"id\"] for cast_member in movie[\"credits\"][\"cast\"]]\n",
    "    movie[\"cast_credit_ids\"] = [cast_member[\"credit_id\"] for cast_member in movie[\"credits\"][\"cast\"]]\n",
    "    movie[\"crew_person_ids\"] = [crew_member[\"id\"] for crew_member in movie[\"credits\"][\"crew\"]]\n",
    "    movie[\"crew_credit_ids\"] = [crew_member[\"credit_id\"] for crew_member in movie[\"credits\"][\"crew\"]]\n",
    "    del movie['genres']\n",
    "    del movie['production_companies']\n",
    "    del movie[\"belongs_to_collection\"]   \n",
    "    del movie[\"credits\"]\n",
    "    \n",
    "    all_movies.append(movie)\n",
    "    sleep(REQUEST_DELAY_SECONDS)  \n",
    "\n",
    "df_movies = pd.DataFrame(all_movies)\n",
    "df_movies.rename(columns={\"id\": \"movie_id\"}, inplace=True)\n",
    "df_movies.to_csv(\"../movie_data/movies.csv\", index=False)\n",
    "print(f\"Number of movies collected: {len(df_movies)}\")\n",
    "df_movies"
   ]
  },
  {
   "cell_type": "markdown",
   "id": "c4a74ebe",
   "metadata": {},
   "source": [
    "First we find director_person_ids list.\n",
    "\n",
    "Then we find the top 10 highest credited actors for each movie.\n",
    "\n",
    "And we combine these two lists to a unique_person_ids set"
   ]
  },
  {
   "cell_type": "code",
   "execution_count": null,
   "id": "e835374c",
   "metadata": {},
   "outputs": [],
   "source": [
    "director_person_ids = df_movies['director_person_ids'].explode().dropna().tolist()\n",
    "\n",
    "top_10_cast_person_ids = (\n",
    "    df_movies['cast_person_ids']\n",
    "    .apply(lambda ids: ids[:10])   # slice first 10 for each row\n",
    "    .explode()                     # flatten into one Series\n",
    "    .dropna()\n",
    "    .tolist()                      # convert to plain list\n",
    ")\n",
    "\n",
    "unique_person_ids = set(top_10_cast_person_ids) | set(director_person_ids)\n",
    "len(unique_person_ids)"
   ]
  },
  {
   "cell_type": "markdown",
   "id": "52e9e226",
   "metadata": {},
   "source": [
    "And then we request data for all these unique_person_ids, and store that in a dataframe and a CSV file"
   ]
  },
  {
   "cell_type": "code",
   "execution_count": null,
   "id": "cc138ebe",
   "metadata": {},
   "outputs": [],
   "source": [
    "all_persons = []\n",
    "\n",
    "for person_id in unique_person_ids:\n",
    "    url = f\"https://api.themoviedb.org/3/person/{person_id}\"\n",
    "    response = requests.get(url, headers=headers)\n",
    "    if response.status_code != 200:\n",
    "        raise Exception(f\"person_id: {person_id} Status code: {response.status_code} Text: {response.text}\")\n",
    "    \n",
    "    # Extract the person data from the response\n",
    "    person = response.json()\n",
    "    \n",
    "    all_persons.append(person)\n",
    "    \n",
    "    sleep(REQUEST_DELAY_SECONDS)\n",
    "    \n",
    "    \n",
    "df_persons = pd.DataFrame(all_persons)\n",
    "df_persons.rename(columns={\"id\": \"person_id\"}, inplace=True)\n",
    "df_persons.to_csv(\"../movie_data/persons.csv\", index=False)\n",
    "print(f\"Number of persons collected: {len(df_persons)}\")\n",
    "df_persons\n"
   ]
  },
  {
   "cell_type": "markdown",
   "id": "2fbc1872",
   "metadata": {},
   "source": [
    "POSSIBLE EXTENSION: Now we get credits details for the top 10 actors"
   ]
  },
  {
   "cell_type": "code",
   "execution_count": null,
   "id": "92dd1742",
   "metadata": {},
   "outputs": [],
   "source": [
    "# top_10_cast_credit_ids = (\n",
    "#     df_movies['cast_credit_ids']\n",
    "#     .apply(lambda ids: ids[:10])   # slice first 10 for each row\n",
    "#     .explode()                     # flatten into one Series\n",
    "#     .tolist()                      # convert to plain list\n",
    "# )\n",
    "# len(top_10_cast_credit_ids)"
   ]
  },
  {
   "cell_type": "code",
   "execution_count": null,
   "id": "2be72e0c",
   "metadata": {},
   "outputs": [],
   "source": [
    "# all_credits = []\n",
    "\n",
    "# for credit_id in top_10_cast_credit_ids:\n",
    "#     url = f\"https://api.themoviedb.org/3/person/{person_id}\"\n",
    "#     response = requests.get(url, headers=headers)\n",
    "#     if response.status_code != 200:\n",
    "#         raise Exception(f\"Status code: {response.status_code} Text: {response.text}\")\n",
    "    \n",
    "#     # Extract the person data from the response\n",
    "#     person = response.json()\n",
    "    \n",
    "#     all_persons.append(person)\n",
    "    \n",
    "#     sleep(REQUEST_DELAY_SECONDS)\n",
    "    \n",
    "    \n",
    "# df_persons = pd.DataFrame(all_persons)\n",
    "# df_persons.rename(columns={\"id\": \"person_id\"}, inplace=True)\n",
    "# df_persons.to_csv(\"../movie_data/persons.csv\", index=False)\n",
    "# print(f\"Number of persons collected: {len(df_persons)}\")\n",
    "# df_persons"
   ]
  }
 ],
 "metadata": {
  "kernelspec": {
   "display_name": "base",
   "language": "python",
   "name": "python3"
  },
  "language_info": {
   "codemirror_mode": {
    "name": "ipython",
    "version": 3
   },
   "file_extension": ".py",
   "mimetype": "text/x-python",
   "name": "python",
   "nbconvert_exporter": "python",
   "pygments_lexer": "ipython3",
   "version": "3.13.5"
  }
 },
 "nbformat": 4,
 "nbformat_minor": 5
}
