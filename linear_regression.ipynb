{
 "cells": [
  {
   "cell_type": "markdown",
   "id": "b8df7aaf",
   "metadata": {},
   "source": [
    "Trying to perform linear regression on movie data"
   ]
  }
 ],
 "metadata": {
  "language_info": {
   "name": "python"
  }
 },
 "nbformat": 4,
 "nbformat_minor": 5
}
