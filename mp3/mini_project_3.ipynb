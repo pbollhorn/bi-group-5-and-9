{
 "cells": [
  {
   "cell_type": "markdown",
   "id": "e4ffdad7",
   "metadata": {},
   "source": [
    "Mini Project 3"
   ]
  }
 ],
 "metadata": {
  "language_info": {
   "name": "python"
  }
 },
 "nbformat": 4,
 "nbformat_minor": 5
}
