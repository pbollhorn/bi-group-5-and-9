{
 "cells": [
  {
   "cell_type": "markdown",
   "id": "e4ffdad7",
   "metadata": {},
   "source": [
    "# mini_project_3.ipynb\n",
    "\n",
    "Group Members:\n",
    "- Peter Bollhorn\n",
    "- Tobias Thormod Birk Nielsen\n",
    "\n",
    "This notebook presents our solution to Mini Project 3, where we work with data from The Movie Database (TMDB) https://www.themoviedb.org/\n",
    "\n",
    "In the notebook **read_tmdb_data.ipynb** we read JSON data from TMDB's API and store it as CSV files:\n",
    "- **danish_movies.csv**: Data on all Danish-language movies ever made up to and including 2024-12-31.\n",
    "- **danish_actors.csv**: Data on all actors that appear in these movies (also foreign actors).\n",
    "\n",
    "Here is what we do in the different tasks:\n",
    "- Task 1: We load the two CSV files into data frames, and then we clean them and prepare them for the next tasks.\n",
    "- Task 2: We use linear regression to see if there is a linear relationship between actor age and their movie count (the number of movies they have appeared in).\n",
    "- Task 3: We use classiciation to see if we can predict actor gender from their age and their movie count.\n",
    "- Task 4: We use clustering to see (FILL IN HERE)\n",
    "\n",
    "\n",
    "TMDB works with these genders:\n",
    "| value  | Gender                  |\n",
    "|--------|-------------------------|\n",
    "| 0      | Not set / not specified |\n",
    "| 1      | Female                  |\n",
    "| 2      | Male                    |\n",
    "| 3      | Non-binary              |\n",
    "\n",
    "And TMDB works with these genres:\n",
    "| genre_id | Genre           |\n",
    "|----------|-----------------|\n",
    "| 28       | Action          |\n",
    "| 12       | Adventure       |\n",
    "| 16       | Animation       |\n",
    "| 35       | Comedy          |\n",
    "| 80       | Crime           |\n",
    "| 99       | Documentary     |\n",
    "| 18       | Drama           |\n",
    "| 10751    | Family          |\n",
    "| 14       | Fantasy         |\n",
    "| 36       | History         |\n",
    "| 27       | Horror          |\n",
    "| 10402    | Music           |\n",
    "| 9648     | Mystery         |\n",
    "| 10749    | Romance         |\n",
    "| 878      | Science Fiction |\n",
    "| 10770    | TV Movie        |\n",
    "| 53       | Thriller        |\n",
    "| 10752    | War             |\n",
    "| 37       | Western         |"
   ]
  },
  {
   "cell_type": "code",
   "execution_count": null,
   "id": "c1092a1a",
   "metadata": {},
   "outputs": [],
   "source": [
    "import sys\n",
    "sys.path.append(\"..\")\n",
    "\n",
    "import pandas as pd\n",
    "import ast  # Abstract Syntax Trees - safely parse string list to Python list\n",
    "import seaborn as sns\n",
    "import matplotlib.pyplot as plt\n",
    "from reader import generic_reader"
   ]
  },
  {
   "cell_type": "markdown",
   "id": "2fbc7343",
   "metadata": {},
   "source": [
    "## Task 1: Data wrangling and exploration"
   ]
  },
  {
   "cell_type": "markdown",
   "id": "34e88090",
   "metadata": {},
   "source": [
    "First we read in danish_movies.csv and have a look at the data. We see that there is a total of 5134 movies."
   ]
  },
  {
   "cell_type": "code",
   "execution_count": null,
   "id": "0c0e99e8",
   "metadata": {},
   "outputs": [],
   "source": [
    "danish_movies = generic_reader.read_csv_file_to_data_frame(\"movie_data/danish_movies.csv\")\n",
    "print(danish_movies.info())\n",
    "danish_movies"
   ]
  },
  {
   "cell_type": "markdown",
   "id": "f27655ab",
   "metadata": {},
   "source": [
    "Now we read in danish_actors.csv and have a look at the data. We see that a total of 15602 actors appear in these movies (including foreign actors)."
   ]
  },
  {
   "cell_type": "code",
   "execution_count": null,
   "id": "86c181c3",
   "metadata": {},
   "outputs": [],
   "source": [
    "danish_actors = generic_reader.read_csv_file_to_data_frame(\"movie_data/danish_actors.csv\")\n",
    "print(danish_actors.info())\n",
    "danish_actors"
   ]
  },
  {
   "cell_type": "markdown",
   "id": "9f4edeb9",
   "metadata": {},
   "source": [
    "For danish_movies data frame, we now drop the columns we are not interested in working with.\n",
    "\n",
    "And we convert string representations of lists to actual Python lists.\n",
    "\n",
    "And we convert string representation of release_date to actual Python datetime objects."
   ]
  },
  {
   "cell_type": "code",
   "execution_count": null,
   "id": "c2cdd839",
   "metadata": {},
   "outputs": [],
   "source": [
    "columns_to_keep = ['id', 'title', 'release_date', 'runtime', 'vote_average', 'vote_count', 'genre_ids', 'cast_person_ids']\n",
    "danish_movies = danish_movies[columns_to_keep].copy()\n",
    "danish_movies['genre_ids'] = danish_movies['genre_ids'].apply(ast.literal_eval)\n",
    "danish_movies['cast_person_ids'] = danish_movies['cast_person_ids'].apply(ast.literal_eval)\n",
    "danish_movies['release_date'] = pd.to_datetime(danish_movies['release_date'])\n",
    "danish_movies"
   ]
  },
  {
   "cell_type": "markdown",
   "id": "de6973af",
   "metadata": {},
   "source": [
    "For danish_actors data frame, we now drop the columns we are not interested in working with.\n",
    "\n",
    "And we convert string representation of dates to actual Python datetime objects."
   ]
  },
  {
   "cell_type": "code",
   "execution_count": null,
   "id": "487422f2",
   "metadata": {},
   "outputs": [],
   "source": [
    "columns_to_keep = ['actor_id', 'name', 'gender', 'birthday', 'deathday']\n",
    "danish_actors = danish_actors[columns_to_keep].copy()\n",
    "danish_actors['birthday'] = pd.to_datetime(danish_actors['birthday'])\n",
    "danish_actors['deathday'] = pd.to_datetime(danish_actors['deathday'])\n",
    "danish_actors"
   ]
  },
  {
   "cell_type": "markdown",
   "id": "ecf60dbc",
   "metadata": {},
   "source": [
    "In the danish_movies data frame we drop all movies that have runtime shorter than 40 minutes.\n",
    "\n",
    "We also drop animation films (genre_id=16) and documentaries (genre_id=99).\n",
    "\n",
    "This is because we only want to work with films that are:\n",
    "- **Feature-length** (excluding short-films)\n",
    "- **Live-action** (excluding animation films)\n",
    "- **Narrative** (excluding documentaries)\n",
    "\n",
    "After doing this we have 1623 films left."
   ]
  },
  {
   "cell_type": "code",
   "execution_count": null,
   "id": "5093879b",
   "metadata": {},
   "outputs": [],
   "source": [
    "danish_movies = danish_movies[danish_movies[\"runtime\"] >= 40]\n",
    "danish_movies = danish_movies[~danish_movies['genre_ids'].apply(lambda genre_id: 16 in genre_id or 99 in genre_id)]\n",
    "len(danish_movies)"
   ]
  },
  {
   "cell_type": "markdown",
   "id": "406c2c9b",
   "metadata": {},
   "source": [
    "Now we drop all actors that do not appear in the reduced danish_movies data frame.\n",
    "\n",
    "After doing this we have 10651 actors left."
   ]
  },
  {
   "cell_type": "code",
   "execution_count": null,
   "id": "e4bece0a",
   "metadata": {},
   "outputs": [],
   "source": [
    "# Step 1: Get all unique actor IDs from danish_movies\n",
    "all_actor_ids = set()\n",
    "for cast in danish_movies['cast_person_ids']:\n",
    "    all_actor_ids.update(cast)\n",
    "    \n",
    "# Step 2: Reduce danish_actors to only contain those who appear in the reduced danish_movies data frame\n",
    "danish_actors = danish_actors[danish_actors['actor_id'].isin(all_actor_ids)].copy()\n",
    "len(danish_actors)"
   ]
  },
  {
   "cell_type": "markdown",
   "id": "787051d9",
   "metadata": {},
   "source": [
    "Now we calculate movie_count for the actors"
   ]
  },
  {
   "cell_type": "code",
   "execution_count": null,
   "id": "4ce0cfa8",
   "metadata": {},
   "outputs": [],
   "source": [
    "# Step 1: explode cast_person_ids so each row has one actor per movie\n",
    "exploded = danish_movies.explode(\"cast_person_ids\")\n",
    "\n",
    "# Step 2: count movies per actor\n",
    "actor_movie_counts = (\n",
    "    exploded.groupby(\"cast_person_ids\")[\"id\"]\n",
    "    .nunique()  # use nunique in case of duplicates\n",
    "    .reset_index()\n",
    "    .rename(columns={\"cast_person_ids\": \"actor_id\", \"id\": \"movie_count\"})\n",
    ")\n",
    "actor_movie_counts\n",
    "\n",
    "# Step 3: merge movie_count back into danish_actors\n",
    "danish_actors = danish_actors.merge(actor_movie_counts, on=\"actor_id\")\n",
    "danish_actors.sort_values(by=\"movie_count\", ascending=False)"
   ]
  },
  {
   "cell_type": "markdown",
   "id": "47f5f41d",
   "metadata": {},
   "source": [
    "We drop actors whose birthday is missing"
   ]
  },
  {
   "cell_type": "code",
   "execution_count": null,
   "id": "4faf4f29",
   "metadata": {},
   "outputs": [],
   "source": [
    "danish_actors = danish_actors.dropna(subset=[\"birthday\"]).copy()\n",
    "len(danish_actors)"
   ]
  },
  {
   "cell_type": "markdown",
   "id": "5aa38290",
   "metadata": {},
   "source": [
    "We now calculate the age of the actors:\n",
    "- For living actors: Their age as of 2024-12-31\n",
    "- For deceased actors: Their age at the time of passing\n",
    "\n",
    "And hereafter we look at actors when sorted by age."
   ]
  },
  {
   "cell_type": "code",
   "execution_count": null,
   "id": "29555eda",
   "metadata": {},
   "outputs": [],
   "source": [
    "def calculate_age_from_row(row):\n",
    "    birthday = row['birthday']\n",
    "    deathday = row['deathday']\n",
    "    \n",
    "    if pd.isna(deathday):\n",
    "        end_date = pd.to_datetime('2024-12-31')\n",
    "    else:\n",
    "        end_date = deathday\n",
    "    \n",
    "    age = end_date.year - birthday.year - ((end_date.month, end_date.day) < (birthday.month, birthday.day))\n",
    "    return age\n",
    "\n",
    "\n",
    "danish_actors['age'] = danish_actors.apply(calculate_age_from_row, axis=1)\n",
    "danish_actors.sort_values(by=\"age\", ascending=False)"
   ]
  },
  {
   "cell_type": "markdown",
   "id": "7dfd92ba",
   "metadata": {},
   "source": [
    "We now drop actors with age < 0, because they are errors in TMDB's database.\n",
    "\n",
    "We also drop actors with no deathdate and age > 100, because their deathday is probably missing in TMDB's database.\n",
    "\n"
   ]
  },
  {
   "cell_type": "code",
   "execution_count": null,
   "id": "e216e3e1",
   "metadata": {},
   "outputs": [],
   "source": [
    "danish_actors = danish_actors[danish_actors['age'] >= 0]\n",
    "danish_actors = danish_actors[~(danish_actors['deathday'].isna() & (danish_actors['age'] > 100))]\n",
    "danish_actors.sort_values(by=\"age\", ascending=False)"
   ]
  },
  {
   "cell_type": "markdown",
   "id": "3131feb6",
   "metadata": {},
   "source": [
    "### Final data frames\n",
    "\n",
    "After cleaning and preparing the data frames, we arrive at these two data frames:"
   ]
  },
  {
   "cell_type": "code",
   "execution_count": null,
   "id": "7a6a2303",
   "metadata": {},
   "outputs": [],
   "source": [
    "danish_movies"
   ]
  },
  {
   "cell_type": "code",
   "execution_count": null,
   "id": "eb21b362",
   "metadata": {},
   "outputs": [],
   "source": [
    "danish_actors"
   ]
  },
  {
   "cell_type": "markdown",
   "id": "fc38b8e1",
   "metadata": {},
   "source": [
    "## Task 2: Supervised machine learning: linear regression"
   ]
  },
  {
   "cell_type": "markdown",
   "id": "a4ff1074",
   "metadata": {},
   "source": [
    "We will now use linear regression to see if there is a linear relationship between actor age and movie_count."
   ]
  },
  {
   "cell_type": "code",
   "execution_count": null,
   "id": "87a5936f",
   "metadata": {},
   "outputs": [],
   "source": [
    "from sklearn.model_selection import train_test_split\n",
    "from sklearn.linear_model import LinearRegression"
   ]
  },
  {
   "cell_type": "code",
   "execution_count": null,
   "id": "6b53f930",
   "metadata": {},
   "outputs": [],
   "source": [
    "# age is the independent variable\n",
    "X = danish_actors['age'].values.reshape(-1, 1)"
   ]
  },
  {
   "cell_type": "code",
   "execution_count": null,
   "id": "d13413fd",
   "metadata": {},
   "outputs": [],
   "source": [
    "# movie_count is the dependent variable\n",
    "y = danish_actors['movie_count'].values.reshape(-1, 1)"
   ]
  },
  {
   "cell_type": "code",
   "execution_count": null,
   "id": "a40ff7eb",
   "metadata": {},
   "outputs": [],
   "source": [
    "# Split data into train set and test set\n",
    "X_train, X_test, y_train, y_test = train_test_split(X, y, random_state=123, test_size=0.15) "
   ]
  },
  {
   "cell_type": "code",
   "execution_count": null,
   "id": "95353c77",
   "metadata": {},
   "outputs": [],
   "source": [
    "# Creating an instance of Linear Regression model, and fit to our data\n",
    "myreg = LinearRegression()\n",
    "myreg.fit(X_train, y_train)"
   ]
  },
  {
   "cell_type": "code",
   "execution_count": null,
   "id": "c35514cb",
   "metadata": {},
   "outputs": [],
   "source": [
    "# Get the calculated coefficients\n",
    "a = myreg.coef_\n",
    "b = myreg.intercept_"
   ]
  },
  {
   "cell_type": "code",
   "execution_count": null,
   "id": "85dbf043",
   "metadata": {},
   "outputs": [],
   "source": [
    "y_predicted = myreg.predict(X_test)"
   ]
  },
  {
   "cell_type": "markdown",
   "id": "bc16bc33",
   "metadata": {},
   "source": [
    "We now make a plot of the data along with the linear regression."
   ]
  },
  {
   "cell_type": "code",
   "execution_count": null,
   "id": "a6f56c7c",
   "metadata": {},
   "outputs": [],
   "source": [
    "# Visualise the Linear Regression \n",
    "plt.title('Linear Regression')\n",
    "plt.scatter(X, y, alpha=0.2)\n",
    "plt.plot(X_train, a*X_train + b, color='black')\n",
    "plt.plot(X_test, y_predicted, color='orange')\n",
    "plt.xlabel('age')\n",
    "plt.ylabel('movie_count')\n",
    "plt.show()"
   ]
  },
  {
   "cell_type": "markdown",
   "id": "b418aa20",
   "metadata": {},
   "source": [
    "We see that the R-squared value is 0.029 which is not good.\n",
    "\n",
    "This means that there is not really a linear relationship between actor age and movie_count.\n",
    "\n",
    "If we instead had looked only at the actors with the top 100 movie_count we would expect to get a better linear relationship."
   ]
  },
  {
   "cell_type": "code",
   "execution_count": null,
   "id": "8bae48f3",
   "metadata": {},
   "outputs": [],
   "source": [
    "# R-squared: the proportion of the variation in the dependent variable that is predictable from the independent variable\n",
    "from sklearn.metrics import r2_score\n",
    "r2_score(y_test, y_predicted)"
   ]
  },
  {
   "cell_type": "markdown",
   "id": "f9c431b6",
   "metadata": {},
   "source": [
    "## Task 3:  Supervised machine learning: classification"
   ]
  },
  {
   "cell_type": "markdown",
   "id": "d70c8fe4",
   "metadata": {},
   "source": [
    "For the supervised machine-learning task, we used decision tree and random forest tree models to predict the gender of a Danish actor/atress based on two features: age and the number of movies they have appeared in."
   ]
  },
  {
   "cell_type": "code",
   "execution_count": null,
   "id": "4fa4a118",
   "metadata": {},
   "outputs": [],
   "source": [
    "import numpy as np\n",
    "from sklearn import tree\n",
    "from sklearn import model_selection\n",
    "from sklearn.metrics import classification_report\n",
    "from sklearn.metrics import accuracy_score\n",
    "from sklearn.tree import DecisionTreeClassifier\n",
    "from sklearn.ensemble import RandomForestClassifier\n",
    "import os\n",
    "import graphviz"
   ]
  },
  {
   "cell_type": "code",
   "execution_count": null,
   "id": "d9e56f9b",
   "metadata": {},
   "outputs": [],
   "source": [
    "df_classification = danish_actors"
   ]
  },
  {
   "cell_type": "markdown",
   "id": "ffaf879c",
   "metadata": {},
   "source": [
    "Dropping columns from the dataframe which won't be part for the model."
   ]
  },
  {
   "cell_type": "code",
   "execution_count": null,
   "id": "ba4db483",
   "metadata": {},
   "outputs": [],
   "source": [
    "columns_to_drop = ['actor_id', 'name', 'deathday', 'birthday']\n",
    "df_classification = df_classification.drop(columns=columns_to_drop)"
   ]
  },
  {
   "cell_type": "markdown",
   "id": "ee44f2c1",
   "metadata": {},
   "source": [
    "Selecting the feature input columns, age and movie_count, and the column to predict, gender."
   ]
  },
  {
   "cell_type": "code",
   "execution_count": null,
   "id": "c85536d7",
   "metadata": {},
   "outputs": [],
   "source": [
    "feature_cols = [\n",
    "    'age',          \n",
    "    'movie_count' \n",
    "]\n",
    "label_col = 'gender' "
   ]
  },
  {
   "cell_type": "markdown",
   "id": "d0c167d7",
   "metadata": {},
   "source": [
    "Splitting data into X for the features and y the target"
   ]
  },
  {
   "cell_type": "code",
   "execution_count": null,
   "id": "b295e31e",
   "metadata": {},
   "outputs": [],
   "source": [
    "X = df_classification[feature_cols].values\n",
    "y = df_classification[label_col].values"
   ]
  },
  {
   "cell_type": "markdown",
   "id": "32a8b6a1",
   "metadata": {},
   "source": [
    "For clearer visualization of the upcoming decision tree, the gender values were recoded 1 = female and 2 = male."
   ]
  },
  {
   "cell_type": "code",
   "execution_count": null,
   "id": "b1ecf1bb",
   "metadata": {},
   "outputs": [],
   "source": [
    "female = X[y == 1] \n",
    "male = X[y == 2]   "
   ]
  },
  {
   "cell_type": "code",
   "execution_count": null,
   "id": "a014b9f7",
   "metadata": {},
   "outputs": [],
   "source": [
    "#Set test size \n",
    "set_prop = 0.20"
   ]
  },
  {
   "cell_type": "code",
   "execution_count": null,
   "id": "dfe248b2",
   "metadata": {},
   "outputs": [],
   "source": [
    "seed = 10"
   ]
  },
  {
   "cell_type": "markdown",
   "id": "8fb1660f",
   "metadata": {},
   "source": [
    "Split the dataset into training and testing sets."
   ]
  },
  {
   "cell_type": "code",
   "execution_count": null,
   "id": "aba37710",
   "metadata": {},
   "outputs": [],
   "source": [
    "X_train, X_test, y_train, y_test = model_selection.train_test_split(X, y, test_size=set_prop, random_state=seed)"
   ]
  },
  {
   "cell_type": "markdown",
   "id": "936041f4",
   "metadata": {},
   "source": [
    "Initializing classifers. Randomclassifier will be used for the random forest tree model later."
   ]
  },
  {
   "cell_type": "code",
   "execution_count": null,
   "id": "cd0bab85",
   "metadata": {},
   "outputs": [],
   "source": [
    "params = {'max_depth': 4}\n",
    "classifier = DecisionTreeClassifier(**params)\n",
    "randomclassifier = RandomForestClassifier(n_estimators = 100, max_depth = 4)"
   ]
  },
  {
   "cell_type": "markdown",
   "id": "d1551359",
   "metadata": {},
   "source": [
    "Training the decision tree"
   ]
  },
  {
   "cell_type": "code",
   "execution_count": null,
   "id": "c1d97edf",
   "metadata": {},
   "outputs": [],
   "source": [
    "classifier.fit(X_train, y_train)"
   ]
  },
  {
   "cell_type": "markdown",
   "id": "633663e9",
   "metadata": {},
   "source": [
    "Exporting the trained tree to graphviz format to draw the desicion tree."
   ]
  },
  {
   "cell_type": "code",
   "execution_count": null,
   "id": "2f10932f",
   "metadata": {},
   "outputs": [],
   "source": [
    "dot_data = tree.export_graphviz(\n",
    "    classifier,\n",
    "    out_file=None,\n",
    "    feature_names=feature_cols,\n",
    "    class_names=['Unknown', 'female', 'male', 'No-binary'],  # '' for index 0\n",
    "    filled=True, rounded=True\n",
    ")"
   ]
  },
  {
   "cell_type": "code",
   "execution_count": null,
   "id": "5cb68972",
   "metadata": {},
   "outputs": [],
   "source": [
    "graph = graphviz.Source(dot_data)\n",
    "\n",
    "#Remove the comment below to get a pdf of the decision tree called danish_actors\n",
    "#graph.render(\"danish_actors\") "
   ]
  },
  {
   "cell_type": "code",
   "execution_count": null,
   "id": "f8dd12ce",
   "metadata": {},
   "outputs": [],
   "source": [
    "graph"
   ]
  },
  {
   "cell_type": "code",
   "execution_count": null,
   "id": "759852c8",
   "metadata": {},
   "outputs": [],
   "source": [
    "scoring = 'accuracy'"
   ]
  },
  {
   "cell_type": "markdown",
   "id": "4eca6f11",
   "metadata": {},
   "source": [
    "Using the trained tree to predict the gender of the test set."
   ]
  },
  {
   "cell_type": "code",
   "execution_count": null,
   "id": "26e05825",
   "metadata": {},
   "outputs": [],
   "source": [
    "y_testp = classifier.predict(X_test)\n",
    "y_testp"
   ]
  },
  {
   "cell_type": "code",
   "execution_count": null,
   "id": "33c126cd",
   "metadata": {},
   "outputs": [],
   "source": [
    "y_test"
   ]
  },
  {
   "cell_type": "markdown",
   "id": "f2eae989",
   "metadata": {},
   "source": [
    "The model achieved an accuracy of only 59.2%, which is quite low. This indicates that it is unable to reliably predict the gender of an actor or actress"
   ]
  },
  {
   "cell_type": "code",
   "execution_count": null,
   "id": "308d8211",
   "metadata": {},
   "outputs": [],
   "source": [
    "print (\"Accuracy is \", accuracy_score(y_test,y_testp))"
   ]
  },
  {
   "cell_type": "markdown",
   "id": "afa6df7f",
   "metadata": {},
   "source": [
    "**Random decision tree**"
   ]
  },
  {
   "cell_type": "code",
   "execution_count": null,
   "id": "6d723832",
   "metadata": {},
   "outputs": [],
   "source": [
    "randomclassifier.fit(X_train, y_train)"
   ]
  },
  {
   "cell_type": "markdown",
   "id": "083d296c",
   "metadata": {},
   "source": [
    "We find the best tree of the forest to draw."
   ]
  },
  {
   "cell_type": "code",
   "execution_count": null,
   "id": "ab344404",
   "metadata": {},
   "outputs": [],
   "source": [
    "best_accuracy = 0\n",
    "best_tree = None\n",
    "\n",
    "# Loop through all trees in the random forest\n",
    "for tree_estimator in randomclassifier.estimators_:\n",
    "    y_pred = tree_estimator.predict(X_test)\n",
    "    acc = accuracy_score(y_test, y_pred)\n",
    "    if acc > best_accuracy:\n",
    "        best_accuracy = acc\n",
    "        best_tree = tree_estimator\n",
    "\n",
    "dot_data_best = tree.export_graphviz(\n",
    "    best_tree,\n",
    "    out_file=None,\n",
    "    feature_names=feature_cols,\n",
    "    class_names=[\"\",'female', 'male'],\n",
    "    filled=True,\n",
    "    rounded=True\n",
    ")\n"
   ]
  },
  {
   "cell_type": "code",
   "execution_count": null,
   "id": "299947ea",
   "metadata": {},
   "outputs": [],
   "source": [
    "#Display the best tree of the forrest \n",
    "graph_best = graphviz.Source(dot_data_best)\n",
    "\n",
    "#Remove the comment below to get the best random forest tree as pdf\n",
    "#graph_best.render(\"best_random_forest_tree\")"
   ]
  },
  {
   "cell_type": "code",
   "execution_count": null,
   "id": "ce3a6a2d",
   "metadata": {},
   "outputs": [],
   "source": [
    "graph_best"
   ]
  },
  {
   "cell_type": "code",
   "execution_count": null,
   "id": "38ca23be",
   "metadata": {},
   "outputs": [],
   "source": [
    "scoring_random = 'accuracy'"
   ]
  },
  {
   "cell_type": "code",
   "execution_count": null,
   "id": "10213ce9",
   "metadata": {},
   "outputs": [],
   "source": [
    "y_testp = randomclassifier.predict(X_test)\n",
    "y_testp"
   ]
  },
  {
   "cell_type": "code",
   "execution_count": null,
   "id": "d75433dd",
   "metadata": {},
   "outputs": [],
   "source": [
    "y_test"
   ]
  },
  {
   "cell_type": "markdown",
   "id": "7b40e97b",
   "metadata": {},
   "source": [
    "The random decision tree performed similarly to the standard decision tree, achieving a low accuracy of ~58.5%, the precise value can be found below"
   ]
  },
  {
   "cell_type": "code",
   "execution_count": null,
   "id": "66a7f447",
   "metadata": {},
   "outputs": [],
   "source": [
    "print (\"Accuracy is \", accuracy_score(y_test,y_testp))"
   ]
  },
  {
   "cell_type": "markdown",
   "id": "939e33ee",
   "metadata": {},
   "source": [
    "Both the decision tree and random forest models achieved only about 58–59% accuracy, which is low. This result—unsurprising given the limited and weakly related data—suggests there is no meaningful relationship between a Danish actor’s age or number of movie appearances and their gender."
   ]
  },
  {
   "cell_type": "markdown",
   "id": "fd056c70",
   "metadata": {},
   "source": [
    "## Task 4: Unsupervised machine learning: clustering"
   ]
  },
  {
   "cell_type": "markdown",
   "id": "4f77db51",
   "metadata": {},
   "source": [
    "For the unsupervised machine-learning task, we apply Mean Shift clustering to Danish movies, using release year, runtime, and genre IDs as features."
   ]
  },
  {
   "cell_type": "code",
   "execution_count": null,
   "id": "819fd75e",
   "metadata": {},
   "outputs": [],
   "source": [
    "from sklearn.cluster import MeanShift, estimate_bandwidth"
   ]
  },
  {
   "cell_type": "code",
   "execution_count": null,
   "id": "faf8de4a",
   "metadata": {},
   "outputs": [],
   "source": [
    "df_clustering = danish_movies"
   ]
  },
  {
   "cell_type": "markdown",
   "id": "89945b27",
   "metadata": {},
   "source": [
    "Preparing the movie dataset for clustering by standardizing the numeric features, ensuring that variables like release year or runtime do not skew the results"
   ]
  },
  {
   "cell_type": "code",
   "execution_count": null,
   "id": "6e68e2f7",
   "metadata": {},
   "outputs": [],
   "source": [
    "#Looping through all movie ids to find the unique ids\n",
    "all_genres = sorted({g for sublist in df_clustering['genre_ids'] for g in sublist})\n",
    "\n",
    "#Making a one-hot dataframe with as many rows and the df (3990 rows as seen above), all rows have a value of 0\n",
    "genre_df_clustering = pd.DataFrame(0, index=df_clustering.index,\n",
    "                        columns=[f'genre_{g}' for g in all_genres])\n",
    "\n",
    "#Looping through all the genre rows and changing the 0 to 1 cells which match the genre id\n",
    "for i, genres in enumerate(df_clustering['genre_ids']):\n",
    "    genre_df_clustering.loc[i, [f'genre_{g}' for g in genres]] = 1\n",
    "\n",
    "\n",
    "df_clustering_encoded = pd.concat([df_clustering, genre_df_clustering], axis=1)\n",
    "\n",
    "#Changing release_date to a date-time format and making a new column, release_year, and picks year from the date time as an int\n",
    "df_clustering_encoded['release_date'] = pd.to_datetime(df_clustering_encoded['release_date'], errors='coerce')\n",
    "df_clustering_encoded['release_year'] = df_clustering_encoded['release_date'].dt.year\n",
    "\n",
    "#Scaling the years to not dominate the clustering \n",
    "numerical_features = ['release_year', 'runtime']\n",
    "X_num = df_clustering_encoded[numerical_features]\n",
    "X_num_scaled = (X_num - X_num.mean()) / X_num.std(ddof=0)\n",
    "X = np.hstack([X_num_scaled.to_numpy(), genre_df_clustering.values])"
   ]
  },
  {
   "cell_type": "markdown",
   "id": "d0989e1b",
   "metadata": {},
   "source": [
    "Release_year and runtime should be close to zero, which they are."
   ]
  },
  {
   "cell_type": "code",
   "execution_count": null,
   "id": "5f1fa6a5",
   "metadata": {},
   "outputs": [],
   "source": [
    "X_num_scaled.mean(), X_num_scaled.std(ddof=0)"
   ]
  },
  {
   "cell_type": "markdown",
   "id": "1f137428",
   "metadata": {},
   "source": [
    "Because the dataset is relatively small, the sample size is set to 500 without any noticeable impact on performance."
   ]
  },
  {
   "cell_type": "code",
   "execution_count": null,
   "id": "7f66b51f",
   "metadata": {},
   "outputs": [],
   "source": [
    "bandwidth = estimate_bandwidth(X, quantile=0.2, n_samples=500) "
   ]
  },
  {
   "cell_type": "markdown",
   "id": "1f6d3b22",
   "metadata": {},
   "source": [
    "Creating the Mean Shift model."
   ]
  },
  {
   "cell_type": "code",
   "execution_count": null,
   "id": "56129885",
   "metadata": {},
   "outputs": [],
   "source": [
    "msmodel = MeanShift(bandwidth=bandwidth, bin_seeding=True)\n",
    "msmodel.fit(X)"
   ]
  },
  {
   "cell_type": "markdown",
   "id": "272cc252",
   "metadata": {},
   "source": [
    "Labeling all movies with a cluster id."
   ]
  },
  {
   "cell_type": "code",
   "execution_count": null,
   "id": "ba63d800",
   "metadata": {},
   "outputs": [],
   "source": [
    "labels = msmodel.labels_\n",
    "labels"
   ]
  },
  {
   "cell_type": "markdown",
   "id": "e5e42845",
   "metadata": {},
   "source": [
    "Array with the unique cluster ids."
   ]
  },
  {
   "cell_type": "code",
   "execution_count": null,
   "id": "4f6205d7",
   "metadata": {},
   "outputs": [],
   "source": [
    "labels_unique = np.unique(labels)\n",
    "labels_unique"
   ]
  },
  {
   "cell_type": "markdown",
   "id": "406ef41f",
   "metadata": {},
   "source": [
    "Counting the lenth of the array."
   ]
  },
  {
   "cell_type": "code",
   "execution_count": null,
   "id": "739de1da",
   "metadata": {},
   "outputs": [],
   "source": [
    "n_clusters_ = len(labels_unique)"
   ]
  },
  {
   "cell_type": "code",
   "execution_count": null,
   "id": "c4805410",
   "metadata": {},
   "outputs": [],
   "source": [
    "print(f\"Estimated number of clusters = {n_clusters_}\")"
   ]
  }
 ],
 "metadata": {
  "kernelspec": {
   "display_name": "base",
   "language": "python",
   "name": "python3"
  },
  "language_info": {
   "codemirror_mode": {
    "name": "ipython",
    "version": 3
   },
   "file_extension": ".py",
   "mimetype": "text/x-python",
   "name": "python",
   "nbconvert_exporter": "python",
   "pygments_lexer": "ipython3",
   "version": "3.13.5"
  }
 },
 "nbformat": 4,
 "nbformat_minor": 5
}
