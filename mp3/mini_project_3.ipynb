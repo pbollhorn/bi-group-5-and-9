{
 "cells": [
  {
   "cell_type": "markdown",
   "id": "e4ffdad7",
   "metadata": {},
   "source": [
    "# mini_project_3.ipynb\n",
    "\n",
    "Group Members:\n",
    "- Peter Bollhorn\n",
    "- Tobias Thormod Birk Nielsen\n",
    "\n",
    "This notebook presents our solution to Mini Project 3."
   ]
  },
  {
   "cell_type": "markdown",
   "id": "2fbc7343",
   "metadata": {},
   "source": [
    "## Task 1: Data wrangling and exploration"
   ]
  },
  {
   "cell_type": "markdown",
   "id": "fc38b8e1",
   "metadata": {},
   "source": [
    "## Task 2: Supervised machine learning: linear regression"
   ]
  },
  {
   "cell_type": "markdown",
   "id": "f9c431b6",
   "metadata": {},
   "source": [
    "## Task 3:  Supervised machine learning: classification"
   ]
  },
  {
   "cell_type": "markdown",
   "id": "fd056c70",
   "metadata": {},
   "source": [
    "## Task 4: Unsupervised machine learning: clustering"
   ]
  }
 ],
 "metadata": {
  "language_info": {
   "name": "python"
  }
 },
 "nbformat": 4,
 "nbformat_minor": 5
}
