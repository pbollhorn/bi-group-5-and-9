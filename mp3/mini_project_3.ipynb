{
 "cells": [
  {
   "cell_type": "markdown",
   "id": "e4ffdad7",
   "metadata": {},
   "source": [
    "# mini_project_3.ipynb\n",
    "\n",
    "Group Members:\n",
    "- Peter Bollhorn\n",
    "- Tobias Thormod Birk Nielsen\n",
    "\n",
    "This notebook presents our solution to Mini Project 3."
   ]
  }
 ],
 "metadata": {
  "language_info": {
   "name": "python"
  }
 },
 "nbformat": 4,
 "nbformat_minor": 5
}
