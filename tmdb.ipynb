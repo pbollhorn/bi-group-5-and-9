{
 "cells": [
  {
   "cell_type": "code",
   "execution_count": 3,
   "id": "85927254",
   "metadata": {},
   "outputs": [
    {
     "name": "stdout",
     "output_type": "stream",
     "text": [
      "{\"adult\":false,\"backdrop_path\":\"/r6lToY3URLXAgVBUnOzZHK18kki.jpg\",\"belongs_to_collection\":{\"id\":11118,\"name\":\"The Olsen Gang Collection\",\"poster_path\":\"/ylEImURFfwPg5iCAHiZNxBMwpxs.jpg\",\"backdrop_path\":\"/vdHRY8v847UmBlsQAOuc8k5maKd.jpg\"},\"budget\":0,\"genres\":[{\"id\":10751,\"name\":\"Family\"},{\"id\":35,\"name\":\"Comedy\"},{\"id\":80,\"name\":\"Crime\"}],\"homepage\":\"\",\"id\":12549,\"imdb_id\":\"tt0130156\",\"origin_country\":[\"DK\"],\"original_language\":\"da\",\"original_title\":\"Olsen-bandens sidste stik\",\"overview\":\"Egon escapes from the psychiatric ward, where he has been incarcerated since the gang's last coup. Keld and Benny pick him up, and when Egon, as always, is planning the big heist, the Olsen Gang is once again on the move.\",\"popularity\":3.4563,\"poster_path\":\"/tkOidJCoRpqVTUlaQlAtG6Ejm9c.jpg\",\"production_companies\":[{\"id\":235,\"logo_path\":\"/obOynoztBEhDNfHsDXBqOuQLAZk.png\",\"name\":\"Nordisk Film Denmark\",\"origin_country\":\"DK\"}],\"production_countries\":[{\"iso_3166_1\":\"DK\",\"name\":\"Denmark\"},{\"iso_3166_1\":\"ES\",\"name\":\"Spain\"}],\"release_date\":\"1998-12-18\",\"revenue\":0,\"runtime\":105,\"spoken_languages\":[{\"english_name\":\"Danish\",\"iso_639_1\":\"da\",\"name\":\"Dansk\"}],\"status\":\"Released\",\"tagline\":\"They are back!\",\"title\":\"The Olsen Gang's Last Trick\",\"video\":false,\"vote_average\":5.841,\"vote_count\":41}\n"
     ]
    }
   ],
   "source": [
    "import os\n",
    "import requests\n",
    "from dotenv import load_dotenv\n",
    "\n",
    "load_dotenv()  # loads variables from .env\n",
    "tmdb_api_token = os.getenv(\"TMDB_API_TOKEN\")\n",
    "\n",
    "url = \"https://api.themoviedb.org/3/movie/12549?language=en-US\"\n",
    "\n",
    "headers = {\n",
    "    \"accept\": \"application/json\",\n",
    "    \"Authorization\": \"Bearer \" + tmdb_api_token\n",
    "}\n",
    "\n",
    "response = requests.get(url, headers=headers)\n",
    "\n",
    "print(response.text)"
   ]
  },
  {
   "cell_type": "markdown",
   "id": "9c9e5835",
   "metadata": {},
   "source": [
    "Test"
   ]
  }
 ],
 "metadata": {
  "kernelspec": {
   "display_name": "base",
   "language": "python",
   "name": "python3"
  },
  "language_info": {
   "codemirror_mode": {
    "name": "ipython",
    "version": 3
   },
   "file_extension": ".py",
   "mimetype": "text/x-python",
   "name": "python",
   "nbconvert_exporter": "python",
   "pygments_lexer": "ipython3",
   "version": "3.13.5"
  }
 },
 "nbformat": 4,
 "nbformat_minor": 5
}
