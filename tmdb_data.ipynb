{
 "cells": [
  {
   "cell_type": "code",
   "execution_count": 1,
   "id": "855c8d70",
   "metadata": {},
   "outputs": [
    {
     "name": "stdout",
     "output_type": "stream",
     "text": [
      "Total movies collected: 931\n"
     ]
    }
   ],
   "source": [
    "#Getting all danish movie between 2020/01/01 and 2024/12/31\n",
    "import os\n",
    "import requests\n",
    "import pandas as pd\n",
    "from dotenv import load_dotenv\n",
    "from time import sleep \n",
    "\n",
    "load_dotenv()\n",
    "tmdb_api_token = os.getenv(\"TMDB_API_TOKEN\")\n",
    "\n",
    "\n",
    "base_url = (\n",
    "    \"https://api.themoviedb.org/3/discover/movie\"\n",
    "    \"?include_adult=false\"\n",
    "    \"&include_video=false\"\n",
    "    \"&language=en-US\"\n",
    "    \"&sort_by=popularity.desc\"\n",
    "    \"&with_original_language=da\"\n",
    "    \"&primary_release_date.gte=2020-01-01\" #Only movies after\n",
    "    \"&primary_release_date.lte=2024-12-31\" #Only movies before  \n",
    ")\n",
    "\n",
    "headers = {\n",
    "    \"accept\": \"application/json\",\n",
    "    \"Authorization\": f\"Bearer {tmdb_api_token}\"\n",
    "}\n",
    "\n",
    "all_results = []\n",
    "\n",
    "# Loop through all pages (adjust max page if needed)\n",
    "for page in range(1, 289):\n",
    "    url = f\"{base_url}&page={page}\"\n",
    "    resp = requests.get(url, headers=headers).json()\n",
    "\n",
    "    # Stop if we reach the last page\n",
    "    if \"results\" not in resp or not resp[\"results\"]:\n",
    "        break\n",
    "\n",
    "    all_results.extend(resp[\"results\"])\n",
    "    sleep(0.02)  #Just to be sure we don't request to many requests\n",
    "df_movies = pd.DataFrame(all_results)\n",
    "\n",
    "print(f\"Total movies collected: {len(df_movies)}\")\n",
    "df_movies.to_csv(\"danish_movies_upto_2024.csv\", index=False)\n"
   ]
  },
  {
   "cell_type": "code",
   "execution_count": 2,
   "id": "3951c9a6",
   "metadata": {},
   "outputs": [
    {
     "name": "stdout",
     "output_type": "stream",
     "text": [
      "Credits rows collected: 4767\n"
     ]
    }
   ],
   "source": [
    "#Running through all the movies and getting actors id, name and gender\n",
    "load_dotenv()\n",
    "tmdb_api_token = os.getenv(\"TMDB_API_TOKEN\")\n",
    "\n",
    "headers = {\n",
    "    \"accept\": \"application/json\",\n",
    "    \"Authorization\": f\"Bearer {tmdb_api_token}\"\n",
    "}\n",
    "\n",
    "\n",
    "movie_ids = df_movies[\"id\"].tolist()\n",
    "\n",
    "all_credits = []   \n",
    "\n",
    "for movie_id in movie_ids:\n",
    "    url = f\"https://api.themoviedb.org/3/movie/{movie_id}/credits?language=en-US\"\n",
    "    resp = requests.get(url, headers=headers).json()\n",
    "\n",
    "    \n",
    "    for member in resp.get(\"cast\", []):\n",
    "        all_credits.append({\n",
    "            \"movie_id\": movie_id,\n",
    "            \"actor_id\": member[\"id\"],\n",
    "            \"actor_name\": member[\"name\"],\n",
    "            \"gender\": member.get(\"gender\")\n",
    "        })\n",
    "\n",
    "   \n",
    "    sleep(0.02) #Just to be sure we don't request to many requests\n",
    "\n",
    "\n",
    "df_cast = pd.DataFrame(all_credits)\n",
    "\n",
    "print(f\"Credits rows collected: {len(df_cast)}\")\n",
    "df_cast.to_csv(\"danish_movies_cast_credits.csv\", index=False)"
   ]
  },
  {
   "cell_type": "code",
   "execution_count": 4,
   "id": "6b80ddbd",
   "metadata": {},
   "outputs": [
    {
     "name": "stdout",
     "output_type": "stream",
     "text": [
      "Total unique actors collected: 3131\n"
     ]
    }
   ],
   "source": [
    "#Running through all the movies and getting actors id, name and gender\n",
    "from collections import defaultdict\n",
    "\n",
    "load_dotenv()\n",
    "tmdb_api_token = os.getenv(\"TMDB_API_TOKEN\")\n",
    "\n",
    "headers = {\n",
    "    \"accept\": \"application/json\",\n",
    "    \"Authorization\": f\"Bearer {tmdb_api_token}\"\n",
    "}\n",
    "\n",
    "\n",
    "movie_ids = df_movies[\"id\"].tolist()\n",
    "\n",
    "\n",
    "actor_movies = defaultdict(lambda: {\"actor_name\": \"\", \"movie_ids\": set(), \"gender\": None})\n",
    "\n",
    "for movie_id in movie_ids:\n",
    "    url = f\"https://api.themoviedb.org/3/movie/{movie_id}/credits?language=en-US\"\n",
    "    resp = requests.get(url, headers=headers).json()\n",
    "\n",
    "    for member in resp.get(\"cast\", []):\n",
    "        actor_id = member[\"id\"]\n",
    "        actor_movies[actor_id][\"actor_name\"] = member[\"name\"]\n",
    "        actor_movies[actor_id][\"gender\"] = member.get(\"gender\")\n",
    "        actor_movies[actor_id][\"movie_ids\"].add(movie_id)\n",
    "\n",
    "    sleep(0.02)  \n",
    "\n",
    "rows = []\n",
    "for actor_id, info in actor_movies.items():\n",
    "    rows.append({\n",
    "        \"actor_id\": actor_id,\n",
    "        \"actor_name\": info[\"actor_name\"],\n",
    "        \"gender\": info[\"gender\"],\n",
    "        \"movie_ids\": list(info[\"movie_ids\"])  \n",
    "    })\n",
    "\n",
    "df_actors = pd.DataFrame(rows)\n",
    "\n",
    "print(f\"Total unique actors collected: {len(df_actors)}\")\n",
    "df_actors.to_csv(\"danish_actors_movies_2024.csv\", index=False)"
   ]
  },
  {
   "cell_type": "code",
   "execution_count": null,
   "id": "57abc798",
   "metadata": {},
   "outputs": [],
   "source": [
    "#Getting birthday and deathday for the actors\n",
    "headers = {\n",
    "    \"accept\": \"application/json\",\n",
    "    \"Authorization\": f\"Bearer {tmdb_api_token}\"\n",
    "}\n",
    "\n",
    "actor_ids = df_actors[\"actor_id\"].tolist()\n",
    "actors_bd_list = []\n",
    "\n",
    "for actor_id in actor_ids:\n",
    "    url = f\"https://api.themoviedb.org/3/person/{actor_id}\"\n",
    "    resp = requests.get(url, headers=headers).json()\n",
    "\n",
    "    birthday = resp.get(\"birthday\", None)\n",
    "    deathday = resp.get(\"deathday\", None)\n",
    "    \n",
    "    actors_bd_list.append({\n",
    "        \"actor_id\": actor_id,\n",
    "        \"birthday\": birthday,\n",
    "        \"deathday\": deathday\n",
    "    })\n",
    "    \n",
    "    sleep(0.02)  \n",
    "\n",
    "df_actorsbd = pd.DataFrame(actors_bd_list)\n",
    "\n",
    "df_actorsbd = df_actorsbd.merge(df_actors[[\"actor_id\", \"actor_name\"]], on=\"actor_id\")\n",
    "\n",
    "df_actorsbd.to_csv(\"danish_actors_bd_dd_2024.csv\", index=False)\n",
    "\n",
    "print(df_actorsbd.head())"
   ]
  }
 ],
 "metadata": {
  "kernelspec": {
   "display_name": "base",
   "language": "python",
   "name": "python3"
  },
  "language_info": {
   "codemirror_mode": {
    "name": "ipython",
    "version": 3
   },
   "file_extension": ".py",
   "mimetype": "text/x-python",
   "name": "python",
   "nbconvert_exporter": "python",
   "pygments_lexer": "ipython3",
   "version": "3.13.5"
  }
 },
 "nbformat": 4,
 "nbformat_minor": 5
}
